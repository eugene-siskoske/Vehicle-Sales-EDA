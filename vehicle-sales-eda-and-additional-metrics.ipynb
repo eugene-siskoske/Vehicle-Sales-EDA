{
 "cells": [
  {
   "cell_type": "markdown",
   "id": "308c7948",
   "metadata": {
    "papermill": {
     "duration": 0.013619,
     "end_time": "2024-05-31T15:57:23.397805",
     "exception": false,
     "start_time": "2024-05-31T15:57:23.384186",
     "status": "completed"
    },
    "tags": []
   },
   "source": [
    "Hello everyone! I figured I would take a look at this data and see if I can find any interesting insights by doing some EDA and also calculating some additional columns!"
   ]
  },
  {
   "cell_type": "code",
   "execution_count": 1,
   "id": "91cabfff",
   "metadata": {
    "_cell_guid": "b1076dfc-b9ad-4769-8c92-a6c4dae69d19",
    "_uuid": "8f2839f25d086af736a60e9eeb907d3b93b6e0e5",
    "execution": {
     "iopub.execute_input": "2024-05-31T15:57:23.428003Z",
     "iopub.status.busy": "2024-05-31T15:57:23.427232Z",
     "iopub.status.idle": "2024-05-31T15:57:24.462198Z",
     "shell.execute_reply": "2024-05-31T15:57:24.460678Z"
    },
    "papermill": {
     "duration": 1.053439,
     "end_time": "2024-05-31T15:57:24.464979",
     "exception": false,
     "start_time": "2024-05-31T15:57:23.411540",
     "status": "completed"
    },
    "tags": []
   },
   "outputs": [
    {
     "name": "stdout",
     "output_type": "stream",
     "text": [
      "/kaggle/input/vehicle-sales-data/car_prices.csv\n"
     ]
    }
   ],
   "source": [
    "import numpy as np \n",
    "import pandas as pd \n",
    "\n",
    "import os\n",
    "for dirname, _, filenames in os.walk('/kaggle/input'):\n",
    "    for filename in filenames:\n",
    "        print(os.path.join(dirname, filename))"
   ]
  },
  {
   "cell_type": "code",
   "execution_count": 2,
   "id": "8715ed79",
   "metadata": {
    "execution": {
     "iopub.execute_input": "2024-05-31T15:57:24.494765Z",
     "iopub.status.busy": "2024-05-31T15:57:24.494226Z",
     "iopub.status.idle": "2024-05-31T15:57:28.600338Z",
     "shell.execute_reply": "2024-05-31T15:57:28.599018Z"
    },
    "papermill": {
     "duration": 4.124923,
     "end_time": "2024-05-31T15:57:28.603303",
     "exception": false,
     "start_time": "2024-05-31T15:57:24.478380",
     "status": "completed"
    },
    "tags": []
   },
   "outputs": [
    {
     "data": {
      "text/html": [
       "<div>\n",
       "<style scoped>\n",
       "    .dataframe tbody tr th:only-of-type {\n",
       "        vertical-align: middle;\n",
       "    }\n",
       "\n",
       "    .dataframe tbody tr th {\n",
       "        vertical-align: top;\n",
       "    }\n",
       "\n",
       "    .dataframe thead th {\n",
       "        text-align: right;\n",
       "    }\n",
       "</style>\n",
       "<table border=\"1\" class=\"dataframe\">\n",
       "  <thead>\n",
       "    <tr style=\"text-align: right;\">\n",
       "      <th></th>\n",
       "      <th>year</th>\n",
       "      <th>make</th>\n",
       "      <th>model</th>\n",
       "      <th>trim</th>\n",
       "      <th>body</th>\n",
       "      <th>transmission</th>\n",
       "      <th>vin</th>\n",
       "      <th>state</th>\n",
       "      <th>condition</th>\n",
       "      <th>odometer</th>\n",
       "      <th>color</th>\n",
       "      <th>interior</th>\n",
       "      <th>seller</th>\n",
       "      <th>mmr</th>\n",
       "      <th>sellingprice</th>\n",
       "      <th>saledate</th>\n",
       "    </tr>\n",
       "  </thead>\n",
       "  <tbody>\n",
       "    <tr>\n",
       "      <th>0</th>\n",
       "      <td>2015</td>\n",
       "      <td>Kia</td>\n",
       "      <td>Sorento</td>\n",
       "      <td>LX</td>\n",
       "      <td>SUV</td>\n",
       "      <td>automatic</td>\n",
       "      <td>5xyktca69fg566472</td>\n",
       "      <td>ca</td>\n",
       "      <td>5.0</td>\n",
       "      <td>16639.0</td>\n",
       "      <td>white</td>\n",
       "      <td>black</td>\n",
       "      <td>kia motors america  inc</td>\n",
       "      <td>20500.0</td>\n",
       "      <td>21500.0</td>\n",
       "      <td>Tue Dec 16 2014 12:30:00 GMT-0800 (PST)</td>\n",
       "    </tr>\n",
       "    <tr>\n",
       "      <th>1</th>\n",
       "      <td>2015</td>\n",
       "      <td>Kia</td>\n",
       "      <td>Sorento</td>\n",
       "      <td>LX</td>\n",
       "      <td>SUV</td>\n",
       "      <td>automatic</td>\n",
       "      <td>5xyktca69fg561319</td>\n",
       "      <td>ca</td>\n",
       "      <td>5.0</td>\n",
       "      <td>9393.0</td>\n",
       "      <td>white</td>\n",
       "      <td>beige</td>\n",
       "      <td>kia motors america  inc</td>\n",
       "      <td>20800.0</td>\n",
       "      <td>21500.0</td>\n",
       "      <td>Tue Dec 16 2014 12:30:00 GMT-0800 (PST)</td>\n",
       "    </tr>\n",
       "    <tr>\n",
       "      <th>2</th>\n",
       "      <td>2014</td>\n",
       "      <td>BMW</td>\n",
       "      <td>3 Series</td>\n",
       "      <td>328i SULEV</td>\n",
       "      <td>Sedan</td>\n",
       "      <td>automatic</td>\n",
       "      <td>wba3c1c51ek116351</td>\n",
       "      <td>ca</td>\n",
       "      <td>45.0</td>\n",
       "      <td>1331.0</td>\n",
       "      <td>gray</td>\n",
       "      <td>black</td>\n",
       "      <td>financial services remarketing (lease)</td>\n",
       "      <td>31900.0</td>\n",
       "      <td>30000.0</td>\n",
       "      <td>Thu Jan 15 2015 04:30:00 GMT-0800 (PST)</td>\n",
       "    </tr>\n",
       "    <tr>\n",
       "      <th>3</th>\n",
       "      <td>2015</td>\n",
       "      <td>Volvo</td>\n",
       "      <td>S60</td>\n",
       "      <td>T5</td>\n",
       "      <td>Sedan</td>\n",
       "      <td>automatic</td>\n",
       "      <td>yv1612tb4f1310987</td>\n",
       "      <td>ca</td>\n",
       "      <td>41.0</td>\n",
       "      <td>14282.0</td>\n",
       "      <td>white</td>\n",
       "      <td>black</td>\n",
       "      <td>volvo na rep/world omni</td>\n",
       "      <td>27500.0</td>\n",
       "      <td>27750.0</td>\n",
       "      <td>Thu Jan 29 2015 04:30:00 GMT-0800 (PST)</td>\n",
       "    </tr>\n",
       "    <tr>\n",
       "      <th>4</th>\n",
       "      <td>2014</td>\n",
       "      <td>BMW</td>\n",
       "      <td>6 Series Gran Coupe</td>\n",
       "      <td>650i</td>\n",
       "      <td>Sedan</td>\n",
       "      <td>automatic</td>\n",
       "      <td>wba6b2c57ed129731</td>\n",
       "      <td>ca</td>\n",
       "      <td>43.0</td>\n",
       "      <td>2641.0</td>\n",
       "      <td>gray</td>\n",
       "      <td>black</td>\n",
       "      <td>financial services remarketing (lease)</td>\n",
       "      <td>66000.0</td>\n",
       "      <td>67000.0</td>\n",
       "      <td>Thu Dec 18 2014 12:30:00 GMT-0800 (PST)</td>\n",
       "    </tr>\n",
       "  </tbody>\n",
       "</table>\n",
       "</div>"
      ],
      "text/plain": [
       "   year   make                model        trim   body transmission  \\\n",
       "0  2015    Kia              Sorento          LX    SUV    automatic   \n",
       "1  2015    Kia              Sorento          LX    SUV    automatic   \n",
       "2  2014    BMW             3 Series  328i SULEV  Sedan    automatic   \n",
       "3  2015  Volvo                  S60          T5  Sedan    automatic   \n",
       "4  2014    BMW  6 Series Gran Coupe        650i  Sedan    automatic   \n",
       "\n",
       "                 vin state  condition  odometer  color interior  \\\n",
       "0  5xyktca69fg566472    ca        5.0   16639.0  white    black   \n",
       "1  5xyktca69fg561319    ca        5.0    9393.0  white    beige   \n",
       "2  wba3c1c51ek116351    ca       45.0    1331.0   gray    black   \n",
       "3  yv1612tb4f1310987    ca       41.0   14282.0  white    black   \n",
       "4  wba6b2c57ed129731    ca       43.0    2641.0   gray    black   \n",
       "\n",
       "                                   seller      mmr  sellingprice  \\\n",
       "0                 kia motors america  inc  20500.0       21500.0   \n",
       "1                 kia motors america  inc  20800.0       21500.0   \n",
       "2  financial services remarketing (lease)  31900.0       30000.0   \n",
       "3                 volvo na rep/world omni  27500.0       27750.0   \n",
       "4  financial services remarketing (lease)  66000.0       67000.0   \n",
       "\n",
       "                                  saledate  \n",
       "0  Tue Dec 16 2014 12:30:00 GMT-0800 (PST)  \n",
       "1  Tue Dec 16 2014 12:30:00 GMT-0800 (PST)  \n",
       "2  Thu Jan 15 2015 04:30:00 GMT-0800 (PST)  \n",
       "3  Thu Jan 29 2015 04:30:00 GMT-0800 (PST)  \n",
       "4  Thu Dec 18 2014 12:30:00 GMT-0800 (PST)  "
      ]
     },
     "execution_count": 2,
     "metadata": {},
     "output_type": "execute_result"
    }
   ],
   "source": [
    "df = pd.read_csv(r'/kaggle/input/vehicle-sales-data/car_prices.csv')\n",
    "df.head()"
   ]
  },
  {
   "cell_type": "markdown",
   "id": "3cd35ba6",
   "metadata": {
    "papermill": {
     "duration": 0.015305,
     "end_time": "2024-05-31T15:57:28.633156",
     "exception": false,
     "start_time": "2024-05-31T15:57:28.617851",
     "status": "completed"
    },
    "tags": []
   },
   "source": [
    "First - I'll get some basic info about the dataset to get a 'feel' for it and what sort of data it contains within it.\n",
    "\n",
    "* What columns/data do we have?\n",
    "* What sort of data are within each column?\n",
    "* Summary of the numerical columns within the dataset"
   ]
  },
  {
   "cell_type": "code",
   "execution_count": 3,
   "id": "bfa0bdf9",
   "metadata": {
    "execution": {
     "iopub.execute_input": "2024-05-31T15:57:28.664041Z",
     "iopub.status.busy": "2024-05-31T15:57:28.663531Z",
     "iopub.status.idle": "2024-05-31T15:57:28.671737Z",
     "shell.execute_reply": "2024-05-31T15:57:28.670459Z"
    },
    "papermill": {
     "duration": 0.027025,
     "end_time": "2024-05-31T15:57:28.674399",
     "exception": false,
     "start_time": "2024-05-31T15:57:28.647374",
     "status": "completed"
    },
    "tags": []
   },
   "outputs": [
    {
     "data": {
      "text/plain": [
       "Index(['year', 'make', 'model', 'trim', 'body', 'transmission', 'vin', 'state',\n",
       "       'condition', 'odometer', 'color', 'interior', 'seller', 'mmr',\n",
       "       'sellingprice', 'saledate'],\n",
       "      dtype='object')"
      ]
     },
     "execution_count": 3,
     "metadata": {},
     "output_type": "execute_result"
    }
   ],
   "source": [
    "df.columns"
   ]
  },
  {
   "cell_type": "code",
   "execution_count": 4,
   "id": "17cd5717",
   "metadata": {
    "execution": {
     "iopub.execute_input": "2024-05-31T15:57:28.704615Z",
     "iopub.status.busy": "2024-05-31T15:57:28.704196Z",
     "iopub.status.idle": "2024-05-31T15:57:28.877829Z",
     "shell.execute_reply": "2024-05-31T15:57:28.876605Z"
    },
    "papermill": {
     "duration": 0.192206,
     "end_time": "2024-05-31T15:57:28.880556",
     "exception": false,
     "start_time": "2024-05-31T15:57:28.688350",
     "status": "completed"
    },
    "tags": []
   },
   "outputs": [
    {
     "data": {
      "text/html": [
       "<div>\n",
       "<style scoped>\n",
       "    .dataframe tbody tr th:only-of-type {\n",
       "        vertical-align: middle;\n",
       "    }\n",
       "\n",
       "    .dataframe tbody tr th {\n",
       "        vertical-align: top;\n",
       "    }\n",
       "\n",
       "    .dataframe thead th {\n",
       "        text-align: right;\n",
       "    }\n",
       "</style>\n",
       "<table border=\"1\" class=\"dataframe\">\n",
       "  <thead>\n",
       "    <tr style=\"text-align: right;\">\n",
       "      <th></th>\n",
       "      <th>year</th>\n",
       "      <th>condition</th>\n",
       "      <th>odometer</th>\n",
       "      <th>mmr</th>\n",
       "      <th>sellingprice</th>\n",
       "    </tr>\n",
       "  </thead>\n",
       "  <tbody>\n",
       "    <tr>\n",
       "      <th>count</th>\n",
       "      <td>558837.000000</td>\n",
       "      <td>547017.000000</td>\n",
       "      <td>558743.000000</td>\n",
       "      <td>558799.000000</td>\n",
       "      <td>558825.000000</td>\n",
       "    </tr>\n",
       "    <tr>\n",
       "      <th>mean</th>\n",
       "      <td>2010.038927</td>\n",
       "      <td>30.672365</td>\n",
       "      <td>68320.017767</td>\n",
       "      <td>13769.377495</td>\n",
       "      <td>13611.358810</td>\n",
       "    </tr>\n",
       "    <tr>\n",
       "      <th>std</th>\n",
       "      <td>3.966864</td>\n",
       "      <td>13.402832</td>\n",
       "      <td>53398.542821</td>\n",
       "      <td>9679.967174</td>\n",
       "      <td>9749.501628</td>\n",
       "    </tr>\n",
       "    <tr>\n",
       "      <th>min</th>\n",
       "      <td>1982.000000</td>\n",
       "      <td>1.000000</td>\n",
       "      <td>1.000000</td>\n",
       "      <td>25.000000</td>\n",
       "      <td>1.000000</td>\n",
       "    </tr>\n",
       "    <tr>\n",
       "      <th>25%</th>\n",
       "      <td>2007.000000</td>\n",
       "      <td>23.000000</td>\n",
       "      <td>28371.000000</td>\n",
       "      <td>7100.000000</td>\n",
       "      <td>6900.000000</td>\n",
       "    </tr>\n",
       "    <tr>\n",
       "      <th>50%</th>\n",
       "      <td>2012.000000</td>\n",
       "      <td>35.000000</td>\n",
       "      <td>52254.000000</td>\n",
       "      <td>12250.000000</td>\n",
       "      <td>12100.000000</td>\n",
       "    </tr>\n",
       "    <tr>\n",
       "      <th>75%</th>\n",
       "      <td>2013.000000</td>\n",
       "      <td>42.000000</td>\n",
       "      <td>99109.000000</td>\n",
       "      <td>18300.000000</td>\n",
       "      <td>18200.000000</td>\n",
       "    </tr>\n",
       "    <tr>\n",
       "      <th>max</th>\n",
       "      <td>2015.000000</td>\n",
       "      <td>49.000000</td>\n",
       "      <td>999999.000000</td>\n",
       "      <td>182000.000000</td>\n",
       "      <td>230000.000000</td>\n",
       "    </tr>\n",
       "  </tbody>\n",
       "</table>\n",
       "</div>"
      ],
      "text/plain": [
       "                year      condition       odometer            mmr  \\\n",
       "count  558837.000000  547017.000000  558743.000000  558799.000000   \n",
       "mean     2010.038927      30.672365   68320.017767   13769.377495   \n",
       "std         3.966864      13.402832   53398.542821    9679.967174   \n",
       "min      1982.000000       1.000000       1.000000      25.000000   \n",
       "25%      2007.000000      23.000000   28371.000000    7100.000000   \n",
       "50%      2012.000000      35.000000   52254.000000   12250.000000   \n",
       "75%      2013.000000      42.000000   99109.000000   18300.000000   \n",
       "max      2015.000000      49.000000  999999.000000  182000.000000   \n",
       "\n",
       "        sellingprice  \n",
       "count  558825.000000  \n",
       "mean    13611.358810  \n",
       "std      9749.501628  \n",
       "min         1.000000  \n",
       "25%      6900.000000  \n",
       "50%     12100.000000  \n",
       "75%     18200.000000  \n",
       "max    230000.000000  "
      ]
     },
     "execution_count": 4,
     "metadata": {},
     "output_type": "execute_result"
    }
   ],
   "source": [
    "df.describe()"
   ]
  },
  {
   "cell_type": "code",
   "execution_count": 5,
   "id": "3c79bd90",
   "metadata": {
    "execution": {
     "iopub.execute_input": "2024-05-31T15:57:28.911341Z",
     "iopub.status.busy": "2024-05-31T15:57:28.910965Z",
     "iopub.status.idle": "2024-05-31T15:57:29.590219Z",
     "shell.execute_reply": "2024-05-31T15:57:29.589275Z"
    },
    "papermill": {
     "duration": 0.697883,
     "end_time": "2024-05-31T15:57:29.592716",
     "exception": false,
     "start_time": "2024-05-31T15:57:28.894833",
     "status": "completed"
    },
    "tags": []
   },
   "outputs": [
    {
     "name": "stdout",
     "output_type": "stream",
     "text": [
      "<class 'pandas.core.frame.DataFrame'>\n",
      "RangeIndex: 558837 entries, 0 to 558836\n",
      "Data columns (total 16 columns):\n",
      " #   Column        Non-Null Count   Dtype  \n",
      "---  ------        --------------   -----  \n",
      " 0   year          558837 non-null  int64  \n",
      " 1   make          548536 non-null  object \n",
      " 2   model         548438 non-null  object \n",
      " 3   trim          548186 non-null  object \n",
      " 4   body          545642 non-null  object \n",
      " 5   transmission  493485 non-null  object \n",
      " 6   vin           558833 non-null  object \n",
      " 7   state         558837 non-null  object \n",
      " 8   condition     547017 non-null  float64\n",
      " 9   odometer      558743 non-null  float64\n",
      " 10  color         558088 non-null  object \n",
      " 11  interior      558088 non-null  object \n",
      " 12  seller        558837 non-null  object \n",
      " 13  mmr           558799 non-null  float64\n",
      " 14  sellingprice  558825 non-null  float64\n",
      " 15  saledate      558825 non-null  object \n",
      "dtypes: float64(4), int64(1), object(11)\n",
      "memory usage: 68.2+ MB\n"
     ]
    }
   ],
   "source": [
    "df.info()"
   ]
  },
  {
   "cell_type": "markdown",
   "id": "05d1c9d5",
   "metadata": {
    "papermill": {
     "duration": 0.014885,
     "end_time": "2024-05-31T15:57:29.621934",
     "exception": false,
     "start_time": "2024-05-31T15:57:29.607049",
     "status": "completed"
    },
    "tags": []
   },
   "source": [
    "Next, I'll check if there are any NA columns in the dataset. In the above cells I have seen that this dataset is over 558,000 rows, so in my head I am thinking that a few NA values will not hurt any analysis due to the size of the dataset."
   ]
  },
  {
   "cell_type": "code",
   "execution_count": 6,
   "id": "db54300d",
   "metadata": {
    "execution": {
     "iopub.execute_input": "2024-05-31T15:57:29.654279Z",
     "iopub.status.busy": "2024-05-31T15:57:29.653833Z",
     "iopub.status.idle": "2024-05-31T15:57:30.329523Z",
     "shell.execute_reply": "2024-05-31T15:57:30.328429Z"
    },
    "papermill": {
     "duration": 0.695554,
     "end_time": "2024-05-31T15:57:30.332175",
     "exception": false,
     "start_time": "2024-05-31T15:57:29.636621",
     "status": "completed"
    },
    "tags": []
   },
   "outputs": [
    {
     "data": {
      "text/plain": [
       "year                0\n",
       "make            10301\n",
       "model           10399\n",
       "trim            10651\n",
       "body            13195\n",
       "transmission    65352\n",
       "vin                 4\n",
       "state               0\n",
       "condition       11820\n",
       "odometer           94\n",
       "color             749\n",
       "interior          749\n",
       "seller              0\n",
       "mmr                38\n",
       "sellingprice       12\n",
       "saledate           12\n",
       "dtype: int64"
      ]
     },
     "execution_count": 6,
     "metadata": {},
     "output_type": "execute_result"
    }
   ],
   "source": [
    "df.isna().sum()"
   ]
  },
  {
   "cell_type": "markdown",
   "id": "05ec83f2",
   "metadata": {
    "papermill": {
     "duration": 0.016974,
     "end_time": "2024-05-31T15:57:30.364209",
     "exception": false,
     "start_time": "2024-05-31T15:57:30.347235",
     "status": "completed"
    },
    "tags": []
   },
   "source": [
    "Below, I check the percentage of values missing from each column instead of the total number of NA values. I find that there is only a small percentage of NA's in most columns, so I am dropping them from this dataset afterwards."
   ]
  },
  {
   "cell_type": "code",
   "execution_count": 7,
   "id": "a13aca03",
   "metadata": {
    "execution": {
     "iopub.execute_input": "2024-05-31T15:57:30.397209Z",
     "iopub.status.busy": "2024-05-31T15:57:30.396562Z",
     "iopub.status.idle": "2024-05-31T15:57:31.059170Z",
     "shell.execute_reply": "2024-05-31T15:57:31.057899Z"
    },
    "papermill": {
     "duration": 0.682143,
     "end_time": "2024-05-31T15:57:31.061972",
     "exception": false,
     "start_time": "2024-05-31T15:57:30.379829",
     "status": "completed"
    },
    "tags": []
   },
   "outputs": [
    {
     "data": {
      "text/plain": [
       "year             0.000000\n",
       "make             1.843292\n",
       "model            1.860829\n",
       "trim             1.905922\n",
       "body             2.361154\n",
       "transmission    11.694287\n",
       "vin              0.000716\n",
       "state            0.000000\n",
       "condition        2.115107\n",
       "odometer         0.016821\n",
       "color            0.134028\n",
       "interior         0.134028\n",
       "seller           0.000000\n",
       "mmr              0.006800\n",
       "sellingprice     0.002147\n",
       "saledate         0.002147\n",
       "dtype: float64"
      ]
     },
     "execution_count": 7,
     "metadata": {},
     "output_type": "execute_result"
    }
   ],
   "source": [
    "df.isna().sum()/len(df)*100"
   ]
  },
  {
   "cell_type": "code",
   "execution_count": 8,
   "id": "5b19ed8e",
   "metadata": {
    "execution": {
     "iopub.execute_input": "2024-05-31T15:57:31.093918Z",
     "iopub.status.busy": "2024-05-31T15:57:31.093530Z",
     "iopub.status.idle": "2024-05-31T15:57:32.408803Z",
     "shell.execute_reply": "2024-05-31T15:57:32.407345Z"
    },
    "papermill": {
     "duration": 1.334444,
     "end_time": "2024-05-31T15:57:32.411720",
     "exception": false,
     "start_time": "2024-05-31T15:57:31.077276",
     "status": "completed"
    },
    "tags": []
   },
   "outputs": [
    {
     "data": {
      "text/plain": [
       "year            0\n",
       "make            0\n",
       "model           0\n",
       "trim            0\n",
       "body            0\n",
       "transmission    0\n",
       "vin             0\n",
       "state           0\n",
       "condition       0\n",
       "odometer        0\n",
       "color           0\n",
       "interior        0\n",
       "seller          0\n",
       "mmr             0\n",
       "sellingprice    0\n",
       "saledate        0\n",
       "dtype: int64"
      ]
     },
     "execution_count": 8,
     "metadata": {},
     "output_type": "execute_result"
    }
   ],
   "source": [
    "df = df.dropna()\n",
    "df.isna().sum()"
   ]
  },
  {
   "cell_type": "markdown",
   "id": "09311aee",
   "metadata": {
    "papermill": {
     "duration": 0.014809,
     "end_time": "2024-05-31T15:57:32.441910",
     "exception": false,
     "start_time": "2024-05-31T15:57:32.427101",
     "status": "completed"
    },
    "tags": []
   },
   "source": [
    "Here I check how many rows are left within the dataset."
   ]
  },
  {
   "cell_type": "code",
   "execution_count": 9,
   "id": "b4fe7d90",
   "metadata": {
    "execution": {
     "iopub.execute_input": "2024-05-31T15:57:32.473765Z",
     "iopub.status.busy": "2024-05-31T15:57:32.473334Z",
     "iopub.status.idle": "2024-05-31T15:57:32.480967Z",
     "shell.execute_reply": "2024-05-31T15:57:32.479795Z"
    },
    "papermill": {
     "duration": 0.027338,
     "end_time": "2024-05-31T15:57:32.483902",
     "exception": false,
     "start_time": "2024-05-31T15:57:32.456564",
     "status": "completed"
    },
    "tags": []
   },
   "outputs": [
    {
     "data": {
      "text/plain": [
       "472325"
      ]
     },
     "execution_count": 9,
     "metadata": {},
     "output_type": "execute_result"
    }
   ],
   "source": [
    "len(df)"
   ]
  },
  {
   "cell_type": "markdown",
   "id": "b06ac78c",
   "metadata": {
    "papermill": {
     "duration": 0.014842,
     "end_time": "2024-05-31T15:57:32.513647",
     "exception": false,
     "start_time": "2024-05-31T15:57:32.498805",
     "status": "completed"
    },
    "tags": []
   },
   "source": [
    "There is something else I think is good to do to avoid outliers skewing the data. I will be looking at cars based on mileage in this dataset. In the df.describe cell that we wrote above, we can see that the maximum mileage is 999,999 and the minimum mileage is 1 which seems like they could be a placeholder values. I see there is also a minimum selling price of $1 on the dataset, which I am going to assume for the purposes of this analysis to be a placeholder value as well. We will deal with these below."
   ]
  },
  {
   "cell_type": "code",
   "execution_count": 10,
   "id": "020f63a0",
   "metadata": {
    "execution": {
     "iopub.execute_input": "2024-05-31T15:57:32.545324Z",
     "iopub.status.busy": "2024-05-31T15:57:32.544905Z",
     "iopub.status.idle": "2024-05-31T15:57:32.579981Z",
     "shell.execute_reply": "2024-05-31T15:57:32.578756Z"
    },
    "papermill": {
     "duration": 0.053748,
     "end_time": "2024-05-31T15:57:32.582413",
     "exception": false,
     "start_time": "2024-05-31T15:57:32.528665",
     "status": "completed"
    },
    "tags": []
   },
   "outputs": [
    {
     "data": {
      "text/html": [
       "<div>\n",
       "<style scoped>\n",
       "    .dataframe tbody tr th:only-of-type {\n",
       "        vertical-align: middle;\n",
       "    }\n",
       "\n",
       "    .dataframe tbody tr th {\n",
       "        vertical-align: top;\n",
       "    }\n",
       "\n",
       "    .dataframe thead th {\n",
       "        text-align: right;\n",
       "    }\n",
       "</style>\n",
       "<table border=\"1\" class=\"dataframe\">\n",
       "  <thead>\n",
       "    <tr style=\"text-align: right;\">\n",
       "      <th></th>\n",
       "      <th>year</th>\n",
       "      <th>make</th>\n",
       "      <th>model</th>\n",
       "      <th>trim</th>\n",
       "      <th>body</th>\n",
       "      <th>transmission</th>\n",
       "      <th>vin</th>\n",
       "      <th>state</th>\n",
       "      <th>condition</th>\n",
       "      <th>odometer</th>\n",
       "      <th>color</th>\n",
       "      <th>interior</th>\n",
       "      <th>seller</th>\n",
       "      <th>mmr</th>\n",
       "      <th>sellingprice</th>\n",
       "      <th>saledate</th>\n",
       "    </tr>\n",
       "  </thead>\n",
       "  <tbody>\n",
       "    <tr>\n",
       "      <th>275</th>\n",
       "      <td>2013</td>\n",
       "      <td>Hyundai</td>\n",
       "      <td>Elantra Coupe</td>\n",
       "      <td>GS</td>\n",
       "      <td>Elantra Coupe</td>\n",
       "      <td>automatic</td>\n",
       "      <td>kmhdh6ae8du017422</td>\n",
       "      <td>ca</td>\n",
       "      <td>1.0</td>\n",
       "      <td>999999.0</td>\n",
       "      <td>blue</td>\n",
       "      <td>gray</td>\n",
       "      <td>hyundai motor finance</td>\n",
       "      <td>8025.0</td>\n",
       "      <td>2500.0</td>\n",
       "      <td>Tue Jan 27 2015 04:00:00 GMT-0800 (PST)</td>\n",
       "    </tr>\n",
       "    <tr>\n",
       "      <th>697</th>\n",
       "      <td>2013</td>\n",
       "      <td>Nissan</td>\n",
       "      <td>Maxima</td>\n",
       "      <td>3.5 S</td>\n",
       "      <td>Sedan</td>\n",
       "      <td>automatic</td>\n",
       "      <td>1n4aa5apxdc839917</td>\n",
       "      <td>ca</td>\n",
       "      <td>1.0</td>\n",
       "      <td>1.0</td>\n",
       "      <td>gray</td>\n",
       "      <td>black</td>\n",
       "      <td>enterprise vehicle exchange / tra / rental / t...</td>\n",
       "      <td>16950.0</td>\n",
       "      <td>1000.0</td>\n",
       "      <td>Tue Jan 13 2015 13:00:00 GMT-0800 (PST)</td>\n",
       "    </tr>\n",
       "    <tr>\n",
       "      <th>2942</th>\n",
       "      <td>2009</td>\n",
       "      <td>Honda</td>\n",
       "      <td>Civic</td>\n",
       "      <td>LX</td>\n",
       "      <td>Sedan</td>\n",
       "      <td>automatic</td>\n",
       "      <td>2hgfa16579h341583</td>\n",
       "      <td>ca</td>\n",
       "      <td>3.0</td>\n",
       "      <td>1.0</td>\n",
       "      <td>silver</td>\n",
       "      <td>gray</td>\n",
       "      <td>ahfc/honda lease trust/hvt  inc.</td>\n",
       "      <td>9325.0</td>\n",
       "      <td>1000.0</td>\n",
       "      <td>Tue Jun 30 2015 10:00:00 GMT-0700 (PDT)</td>\n",
       "    </tr>\n",
       "    <tr>\n",
       "      <th>3076</th>\n",
       "      <td>2008</td>\n",
       "      <td>Honda</td>\n",
       "      <td>Civic</td>\n",
       "      <td>LX</td>\n",
       "      <td>Sedan</td>\n",
       "      <td>automatic</td>\n",
       "      <td>2hgfa16518h311011</td>\n",
       "      <td>ca</td>\n",
       "      <td>1.0</td>\n",
       "      <td>1.0</td>\n",
       "      <td>silver</td>\n",
       "      <td>gray</td>\n",
       "      <td>ahfc/honda lease trust/hvt  inc.</td>\n",
       "      <td>7900.0</td>\n",
       "      <td>1300.0</td>\n",
       "      <td>Tue Dec 16 2014 13:00:00 GMT-0800 (PST)</td>\n",
       "    </tr>\n",
       "    <tr>\n",
       "      <th>3090</th>\n",
       "      <td>2008</td>\n",
       "      <td>Chrysler</td>\n",
       "      <td>300</td>\n",
       "      <td>LX</td>\n",
       "      <td>Sedan</td>\n",
       "      <td>automatic</td>\n",
       "      <td>2c3ka43r78h186722</td>\n",
       "      <td>ca</td>\n",
       "      <td>19.0</td>\n",
       "      <td>1.0</td>\n",
       "      <td>white</td>\n",
       "      <td>black</td>\n",
       "      <td>wells fargo dealer services</td>\n",
       "      <td>32500.0</td>\n",
       "      <td>1300.0</td>\n",
       "      <td>Thu Mar 26 2015 04:30:00 GMT-0700 (PDT)</td>\n",
       "    </tr>\n",
       "    <tr>\n",
       "      <th>...</th>\n",
       "      <td>...</td>\n",
       "      <td>...</td>\n",
       "      <td>...</td>\n",
       "      <td>...</td>\n",
       "      <td>...</td>\n",
       "      <td>...</td>\n",
       "      <td>...</td>\n",
       "      <td>...</td>\n",
       "      <td>...</td>\n",
       "      <td>...</td>\n",
       "      <td>...</td>\n",
       "      <td>...</td>\n",
       "      <td>...</td>\n",
       "      <td>...</td>\n",
       "      <td>...</td>\n",
       "      <td>...</td>\n",
       "    </tr>\n",
       "    <tr>\n",
       "      <th>551478</th>\n",
       "      <td>2003</td>\n",
       "      <td>Acura</td>\n",
       "      <td>MDX</td>\n",
       "      <td>Touring</td>\n",
       "      <td>suv</td>\n",
       "      <td>automatic</td>\n",
       "      <td>2hnyd18653h516063</td>\n",
       "      <td>md</td>\n",
       "      <td>1.0</td>\n",
       "      <td>1.0</td>\n",
       "      <td>gold</td>\n",
       "      <td>beige</td>\n",
       "      <td>bolsam autos llc</td>\n",
       "      <td>5325.0</td>\n",
       "      <td>600.0</td>\n",
       "      <td>Tue Jun 16 2015 06:00:00 GMT-0700 (PDT)</td>\n",
       "    </tr>\n",
       "    <tr>\n",
       "      <th>551553</th>\n",
       "      <td>2003</td>\n",
       "      <td>Volkswagen</td>\n",
       "      <td>Passat</td>\n",
       "      <td>GLS 1.8T</td>\n",
       "      <td>sedan</td>\n",
       "      <td>automatic</td>\n",
       "      <td>wvwpd63b13p343284</td>\n",
       "      <td>wa</td>\n",
       "      <td>2.0</td>\n",
       "      <td>1.0</td>\n",
       "      <td>silver</td>\n",
       "      <td>black</td>\n",
       "      <td>donate for charity</td>\n",
       "      <td>2450.0</td>\n",
       "      <td>500.0</td>\n",
       "      <td>Wed Jun 17 2015 05:30:00 GMT-0700 (PDT)</td>\n",
       "    </tr>\n",
       "    <tr>\n",
       "      <th>551621</th>\n",
       "      <td>2000</td>\n",
       "      <td>Subaru</td>\n",
       "      <td>Outback</td>\n",
       "      <td>Limited</td>\n",
       "      <td>wagon</td>\n",
       "      <td>automatic</td>\n",
       "      <td>4s3bh6862y7671346</td>\n",
       "      <td>wa</td>\n",
       "      <td>2.0</td>\n",
       "      <td>1.0</td>\n",
       "      <td>black</td>\n",
       "      <td>gray</td>\n",
       "      <td>donate for charity</td>\n",
       "      <td>3025.0</td>\n",
       "      <td>1050.0</td>\n",
       "      <td>Wed Jun 17 2015 05:30:00 GMT-0700 (PDT)</td>\n",
       "    </tr>\n",
       "    <tr>\n",
       "      <th>553964</th>\n",
       "      <td>2012</td>\n",
       "      <td>Ford</td>\n",
       "      <td>Taurus</td>\n",
       "      <td>SE</td>\n",
       "      <td>sedan</td>\n",
       "      <td>automatic</td>\n",
       "      <td>1fahp2dw4cg130924</td>\n",
       "      <td>ca</td>\n",
       "      <td>33.0</td>\n",
       "      <td>1.0</td>\n",
       "      <td>red</td>\n",
       "      <td>beige</td>\n",
       "      <td>high performance capital</td>\n",
       "      <td>12650.0</td>\n",
       "      <td>3700.0</td>\n",
       "      <td>Wed Jun 24 2015 05:30:00 GMT-0700 (PDT)</td>\n",
       "    </tr>\n",
       "    <tr>\n",
       "      <th>557306</th>\n",
       "      <td>2001</td>\n",
       "      <td>Dodge</td>\n",
       "      <td>Ram Pickup 1500</td>\n",
       "      <td>ST</td>\n",
       "      <td>regular cab</td>\n",
       "      <td>automatic</td>\n",
       "      <td>1b7hc16x31s209808</td>\n",
       "      <td>ms</td>\n",
       "      <td>1.0</td>\n",
       "      <td>1.0</td>\n",
       "      <td>white</td>\n",
       "      <td>gray</td>\n",
       "      <td>select remarketing group llc/midwest title loans</td>\n",
       "      <td>1750.0</td>\n",
       "      <td>300.0</td>\n",
       "      <td>Thu Jun 18 2015 05:02:00 GMT-0700 (PDT)</td>\n",
       "    </tr>\n",
       "  </tbody>\n",
       "</table>\n",
       "<p>1040 rows × 16 columns</p>\n",
       "</div>"
      ],
      "text/plain": [
       "        year        make            model      trim           body  \\\n",
       "275     2013     Hyundai    Elantra Coupe        GS  Elantra Coupe   \n",
       "697     2013      Nissan           Maxima     3.5 S          Sedan   \n",
       "2942    2009       Honda            Civic        LX          Sedan   \n",
       "3076    2008       Honda            Civic        LX          Sedan   \n",
       "3090    2008    Chrysler              300        LX          Sedan   \n",
       "...      ...         ...              ...       ...            ...   \n",
       "551478  2003       Acura              MDX   Touring            suv   \n",
       "551553  2003  Volkswagen           Passat  GLS 1.8T          sedan   \n",
       "551621  2000      Subaru          Outback   Limited          wagon   \n",
       "553964  2012        Ford           Taurus        SE          sedan   \n",
       "557306  2001       Dodge  Ram Pickup 1500        ST    regular cab   \n",
       "\n",
       "       transmission                vin state  condition  odometer   color  \\\n",
       "275       automatic  kmhdh6ae8du017422    ca        1.0  999999.0    blue   \n",
       "697       automatic  1n4aa5apxdc839917    ca        1.0       1.0    gray   \n",
       "2942      automatic  2hgfa16579h341583    ca        3.0       1.0  silver   \n",
       "3076      automatic  2hgfa16518h311011    ca        1.0       1.0  silver   \n",
       "3090      automatic  2c3ka43r78h186722    ca       19.0       1.0   white   \n",
       "...             ...                ...   ...        ...       ...     ...   \n",
       "551478    automatic  2hnyd18653h516063    md        1.0       1.0    gold   \n",
       "551553    automatic  wvwpd63b13p343284    wa        2.0       1.0  silver   \n",
       "551621    automatic  4s3bh6862y7671346    wa        2.0       1.0   black   \n",
       "553964    automatic  1fahp2dw4cg130924    ca       33.0       1.0     red   \n",
       "557306    automatic  1b7hc16x31s209808    ms        1.0       1.0   white   \n",
       "\n",
       "       interior                                             seller      mmr  \\\n",
       "275        gray                              hyundai motor finance   8025.0   \n",
       "697       black  enterprise vehicle exchange / tra / rental / t...  16950.0   \n",
       "2942       gray                   ahfc/honda lease trust/hvt  inc.   9325.0   \n",
       "3076       gray                   ahfc/honda lease trust/hvt  inc.   7900.0   \n",
       "3090      black                        wells fargo dealer services  32500.0   \n",
       "...         ...                                                ...      ...   \n",
       "551478    beige                                   bolsam autos llc   5325.0   \n",
       "551553    black                                 donate for charity   2450.0   \n",
       "551621     gray                                 donate for charity   3025.0   \n",
       "553964    beige                           high performance capital  12650.0   \n",
       "557306     gray   select remarketing group llc/midwest title loans   1750.0   \n",
       "\n",
       "        sellingprice                                 saledate  \n",
       "275           2500.0  Tue Jan 27 2015 04:00:00 GMT-0800 (PST)  \n",
       "697           1000.0  Tue Jan 13 2015 13:00:00 GMT-0800 (PST)  \n",
       "2942          1000.0  Tue Jun 30 2015 10:00:00 GMT-0700 (PDT)  \n",
       "3076          1300.0  Tue Dec 16 2014 13:00:00 GMT-0800 (PST)  \n",
       "3090          1300.0  Thu Mar 26 2015 04:30:00 GMT-0700 (PDT)  \n",
       "...              ...                                      ...  \n",
       "551478         600.0  Tue Jun 16 2015 06:00:00 GMT-0700 (PDT)  \n",
       "551553         500.0  Wed Jun 17 2015 05:30:00 GMT-0700 (PDT)  \n",
       "551621        1050.0  Wed Jun 17 2015 05:30:00 GMT-0700 (PDT)  \n",
       "553964        3700.0  Wed Jun 24 2015 05:30:00 GMT-0700 (PDT)  \n",
       "557306         300.0  Thu Jun 18 2015 05:02:00 GMT-0700 (PDT)  \n",
       "\n",
       "[1040 rows x 16 columns]"
      ]
     },
     "execution_count": 10,
     "metadata": {},
     "output_type": "execute_result"
    }
   ],
   "source": [
    "incorrectvalues = df.loc[(df['odometer'] == 999999) | (df['odometer'] == 1) | (df['sellingprice'] == 1)]\n",
    "incorrectvalues"
   ]
  },
  {
   "cell_type": "code",
   "execution_count": 11,
   "id": "03b9423b",
   "metadata": {
    "execution": {
     "iopub.execute_input": "2024-05-31T15:57:32.615624Z",
     "iopub.status.busy": "2024-05-31T15:57:32.615195Z",
     "iopub.status.idle": "2024-05-31T15:57:32.738503Z",
     "shell.execute_reply": "2024-05-31T15:57:32.737156Z"
    },
    "papermill": {
     "duration": 0.143733,
     "end_time": "2024-05-31T15:57:32.741863",
     "exception": false,
     "start_time": "2024-05-31T15:57:32.598130",
     "status": "completed"
    },
    "tags": []
   },
   "outputs": [],
   "source": [
    "df = df[(df['odometer'] < 999999) & (df['odometer'] > 1) & (df['sellingprice'] > 1)]"
   ]
  },
  {
   "cell_type": "markdown",
   "id": "3f242930",
   "metadata": {
    "papermill": {
     "duration": 0.015293,
     "end_time": "2024-05-31T15:57:32.774654",
     "exception": false,
     "start_time": "2024-05-31T15:57:32.759361",
     "status": "completed"
    },
    "tags": []
   },
   "source": [
    "Below I will check the length of the dataframe just to make sure this executed properly. The previous length of the dataframe was 472325. And we should've filtered out 1040 rows based on our incorrect values dataset."
   ]
  },
  {
   "cell_type": "code",
   "execution_count": 12,
   "id": "62a89aec",
   "metadata": {
    "execution": {
     "iopub.execute_input": "2024-05-31T15:57:32.808879Z",
     "iopub.status.busy": "2024-05-31T15:57:32.807615Z",
     "iopub.status.idle": "2024-05-31T15:57:32.815176Z",
     "shell.execute_reply": "2024-05-31T15:57:32.814082Z"
    },
    "papermill": {
     "duration": 0.027459,
     "end_time": "2024-05-31T15:57:32.817738",
     "exception": false,
     "start_time": "2024-05-31T15:57:32.790279",
     "status": "completed"
    },
    "tags": []
   },
   "outputs": [
    {
     "data": {
      "text/plain": [
       "471285"
      ]
     },
     "execution_count": 12,
     "metadata": {},
     "output_type": "execute_result"
    }
   ],
   "source": [
    "len(df)"
   ]
  },
  {
   "cell_type": "markdown",
   "id": "1470da50",
   "metadata": {
    "papermill": {
     "duration": 0.015874,
     "end_time": "2024-05-31T15:57:32.850030",
     "exception": false,
     "start_time": "2024-05-31T15:57:32.834156",
     "status": "completed"
    },
    "tags": []
   },
   "source": [
    "Now we have the dataframe the way we want it and we can begin our exploration and analysis."
   ]
  },
  {
   "cell_type": "markdown",
   "id": "bea62406",
   "metadata": {
    "papermill": {
     "duration": 0.015378,
     "end_time": "2024-05-31T15:57:32.881132",
     "exception": false,
     "start_time": "2024-05-31T15:57:32.865754",
     "status": "completed"
    },
    "tags": []
   },
   "source": [
    "Below I first check the number of cars from each make in the dataset. I do have some knowledge of common vehicles prior to analyzing this dataset, but the results seem to confirm that most of the common vehicle makes are at the top of this list. \n",
    "\n",
    "I then also check the number of cars by body type. And it seems like the majority of cars are both sedans and SUV's which makes sense with common knowledge of vehicles."
   ]
  },
  {
   "cell_type": "code",
   "execution_count": 13,
   "id": "b89ce409",
   "metadata": {
    "execution": {
     "iopub.execute_input": "2024-05-31T15:57:32.914290Z",
     "iopub.status.busy": "2024-05-31T15:57:32.913926Z",
     "iopub.status.idle": "2024-05-31T15:57:33.015173Z",
     "shell.execute_reply": "2024-05-31T15:57:33.013669Z"
    },
    "papermill": {
     "duration": 0.12098,
     "end_time": "2024-05-31T15:57:33.018131",
     "exception": false,
     "start_time": "2024-05-31T15:57:32.897151",
     "status": "completed"
    },
    "tags": []
   },
   "outputs": [
    {
     "data": {
      "text/plain": [
       "make\n",
       "Ford             80884\n",
       "Chevrolet        54035\n",
       "Nissan           43953\n",
       "Toyota           35266\n",
       "Dodge            27120\n",
       "Honda            24721\n",
       "Hyundai          18630\n",
       "BMW              17453\n",
       "Kia              15809\n",
       "Chrysler         15109\n",
       "Infiniti         14006\n",
       "Mercedes-Benz    13967\n",
       "Jeep             12713\n",
       "Volkswagen       10757\n",
       "Lexus            10391\n",
       "GMC               9188\n",
       "Mazda             6917\n",
       "Cadillac          6288\n",
       "Lincoln           4909\n",
       "Audi              4787\n",
       "Acura             4492\n",
       "Buick             4426\n",
       "Subaru            4360\n",
       "Ram               4043\n",
       "Pontiac           3992\n",
       "Mitsubishi        3648\n",
       "Volvo             3062\n",
       "MINI              2944\n",
       "Saturn            2547\n",
       "Mercury           1561\n",
       "Scion             1544\n",
       "Land Rover        1319\n",
       "Jaguar            1250\n",
       "Porsche           1155\n",
       "Suzuki             972\n",
       "HUMMER             768\n",
       "FIAT               725\n",
       "Saab               410\n",
       "smart              342\n",
       "Oldsmobile         307\n",
       "Isuzu              177\n",
       "Maserati           108\n",
       "Bentley            105\n",
       "Aston Martin        24\n",
       "Tesla               23\n",
       "Ferrari             17\n",
       "Rolls-Royce         16\n",
       "Geo                 16\n",
       "Plymouth            14\n",
       "Fisker               9\n",
       "Lamborghini          3\n",
       "Daewoo               2\n",
       "Lotus                1\n",
       "Name: count, dtype: int64"
      ]
     },
     "execution_count": 13,
     "metadata": {},
     "output_type": "execute_result"
    }
   ],
   "source": [
    "df['make'].value_counts()"
   ]
  },
  {
   "cell_type": "code",
   "execution_count": 14,
   "id": "cc9c110a",
   "metadata": {
    "execution": {
     "iopub.execute_input": "2024-05-31T15:57:33.053570Z",
     "iopub.status.busy": "2024-05-31T15:57:33.053199Z",
     "iopub.status.idle": "2024-05-31T15:57:33.151429Z",
     "shell.execute_reply": "2024-05-31T15:57:33.150145Z"
    },
    "papermill": {
     "duration": 0.119362,
     "end_time": "2024-05-31T15:57:33.154252",
     "exception": false,
     "start_time": "2024-05-31T15:57:33.034890",
     "status": "completed"
    },
    "tags": []
   },
   "outputs": [
    {
     "data": {
      "text/plain": [
       "body\n",
       "Sedan          174161\n",
       "SUV            100131\n",
       "sedan           36628\n",
       "suv             20611\n",
       "Hatchback       19315\n",
       "Minivan         18237\n",
       "Coupe           13074\n",
       "Wagon           11997\n",
       "Crew Cab        11494\n",
       "Convertible      7696\n",
       "Name: count, dtype: int64"
      ]
     },
     "execution_count": 14,
     "metadata": {},
     "output_type": "execute_result"
    }
   ],
   "source": [
    "df['body'].value_counts().head(10)"
   ]
  },
  {
   "cell_type": "markdown",
   "id": "e0dae9e4",
   "metadata": {
    "papermill": {
     "duration": 0.015778,
     "end_time": "2024-05-31T15:57:33.186564",
     "exception": false,
     "start_time": "2024-05-31T15:57:33.170786",
     "status": "completed"
    },
    "tags": []
   },
   "source": [
    "Below I figured it would be interesting to find the annual mileage driven for each car. I assumed this data was collected in 2016 since I can see the newest model year is 2015, and this is used vehicle sales. I used 2016 as the base year to calculate the mileage per year, based of the age of the car.\n",
    "\n",
    "In the graph below you can see that many of the common brands are driven more often per year on average than luxury brands. "
   ]
  },
  {
   "cell_type": "code",
   "execution_count": 15,
   "id": "469ad4b3",
   "metadata": {
    "execution": {
     "iopub.execute_input": "2024-05-31T15:57:33.220596Z",
     "iopub.status.busy": "2024-05-31T15:57:33.220188Z",
     "iopub.status.idle": "2024-05-31T15:57:33.247889Z",
     "shell.execute_reply": "2024-05-31T15:57:33.246569Z"
    },
    "papermill": {
     "duration": 0.047704,
     "end_time": "2024-05-31T15:57:33.250337",
     "exception": false,
     "start_time": "2024-05-31T15:57:33.202633",
     "status": "completed"
    },
    "tags": []
   },
   "outputs": [
    {
     "data": {
      "text/html": [
       "<div>\n",
       "<style scoped>\n",
       "    .dataframe tbody tr th:only-of-type {\n",
       "        vertical-align: middle;\n",
       "    }\n",
       "\n",
       "    .dataframe tbody tr th {\n",
       "        vertical-align: top;\n",
       "    }\n",
       "\n",
       "    .dataframe thead th {\n",
       "        text-align: right;\n",
       "    }\n",
       "</style>\n",
       "<table border=\"1\" class=\"dataframe\">\n",
       "  <thead>\n",
       "    <tr style=\"text-align: right;\">\n",
       "      <th></th>\n",
       "      <th>year</th>\n",
       "      <th>make</th>\n",
       "      <th>model</th>\n",
       "      <th>trim</th>\n",
       "      <th>body</th>\n",
       "      <th>transmission</th>\n",
       "      <th>vin</th>\n",
       "      <th>state</th>\n",
       "      <th>condition</th>\n",
       "      <th>odometer</th>\n",
       "      <th>color</th>\n",
       "      <th>interior</th>\n",
       "      <th>seller</th>\n",
       "      <th>mmr</th>\n",
       "      <th>sellingprice</th>\n",
       "      <th>saledate</th>\n",
       "      <th>annualmileage</th>\n",
       "    </tr>\n",
       "  </thead>\n",
       "  <tbody>\n",
       "    <tr>\n",
       "      <th>0</th>\n",
       "      <td>2015</td>\n",
       "      <td>Kia</td>\n",
       "      <td>Sorento</td>\n",
       "      <td>LX</td>\n",
       "      <td>SUV</td>\n",
       "      <td>automatic</td>\n",
       "      <td>5xyktca69fg566472</td>\n",
       "      <td>ca</td>\n",
       "      <td>5.0</td>\n",
       "      <td>16639.0</td>\n",
       "      <td>white</td>\n",
       "      <td>black</td>\n",
       "      <td>kia motors america  inc</td>\n",
       "      <td>20500.0</td>\n",
       "      <td>21500.0</td>\n",
       "      <td>Tue Dec 16 2014 12:30:00 GMT-0800 (PST)</td>\n",
       "      <td>16639.0</td>\n",
       "    </tr>\n",
       "    <tr>\n",
       "      <th>1</th>\n",
       "      <td>2015</td>\n",
       "      <td>Kia</td>\n",
       "      <td>Sorento</td>\n",
       "      <td>LX</td>\n",
       "      <td>SUV</td>\n",
       "      <td>automatic</td>\n",
       "      <td>5xyktca69fg561319</td>\n",
       "      <td>ca</td>\n",
       "      <td>5.0</td>\n",
       "      <td>9393.0</td>\n",
       "      <td>white</td>\n",
       "      <td>beige</td>\n",
       "      <td>kia motors america  inc</td>\n",
       "      <td>20800.0</td>\n",
       "      <td>21500.0</td>\n",
       "      <td>Tue Dec 16 2014 12:30:00 GMT-0800 (PST)</td>\n",
       "      <td>9393.0</td>\n",
       "    </tr>\n",
       "    <tr>\n",
       "      <th>2</th>\n",
       "      <td>2014</td>\n",
       "      <td>BMW</td>\n",
       "      <td>3 Series</td>\n",
       "      <td>328i SULEV</td>\n",
       "      <td>Sedan</td>\n",
       "      <td>automatic</td>\n",
       "      <td>wba3c1c51ek116351</td>\n",
       "      <td>ca</td>\n",
       "      <td>45.0</td>\n",
       "      <td>1331.0</td>\n",
       "      <td>gray</td>\n",
       "      <td>black</td>\n",
       "      <td>financial services remarketing (lease)</td>\n",
       "      <td>31900.0</td>\n",
       "      <td>30000.0</td>\n",
       "      <td>Thu Jan 15 2015 04:30:00 GMT-0800 (PST)</td>\n",
       "      <td>665.5</td>\n",
       "    </tr>\n",
       "    <tr>\n",
       "      <th>3</th>\n",
       "      <td>2015</td>\n",
       "      <td>Volvo</td>\n",
       "      <td>S60</td>\n",
       "      <td>T5</td>\n",
       "      <td>Sedan</td>\n",
       "      <td>automatic</td>\n",
       "      <td>yv1612tb4f1310987</td>\n",
       "      <td>ca</td>\n",
       "      <td>41.0</td>\n",
       "      <td>14282.0</td>\n",
       "      <td>white</td>\n",
       "      <td>black</td>\n",
       "      <td>volvo na rep/world omni</td>\n",
       "      <td>27500.0</td>\n",
       "      <td>27750.0</td>\n",
       "      <td>Thu Jan 29 2015 04:30:00 GMT-0800 (PST)</td>\n",
       "      <td>14282.0</td>\n",
       "    </tr>\n",
       "    <tr>\n",
       "      <th>4</th>\n",
       "      <td>2014</td>\n",
       "      <td>BMW</td>\n",
       "      <td>6 Series Gran Coupe</td>\n",
       "      <td>650i</td>\n",
       "      <td>Sedan</td>\n",
       "      <td>automatic</td>\n",
       "      <td>wba6b2c57ed129731</td>\n",
       "      <td>ca</td>\n",
       "      <td>43.0</td>\n",
       "      <td>2641.0</td>\n",
       "      <td>gray</td>\n",
       "      <td>black</td>\n",
       "      <td>financial services remarketing (lease)</td>\n",
       "      <td>66000.0</td>\n",
       "      <td>67000.0</td>\n",
       "      <td>Thu Dec 18 2014 12:30:00 GMT-0800 (PST)</td>\n",
       "      <td>1320.5</td>\n",
       "    </tr>\n",
       "  </tbody>\n",
       "</table>\n",
       "</div>"
      ],
      "text/plain": [
       "   year   make                model        trim   body transmission  \\\n",
       "0  2015    Kia              Sorento          LX    SUV    automatic   \n",
       "1  2015    Kia              Sorento          LX    SUV    automatic   \n",
       "2  2014    BMW             3 Series  328i SULEV  Sedan    automatic   \n",
       "3  2015  Volvo                  S60          T5  Sedan    automatic   \n",
       "4  2014    BMW  6 Series Gran Coupe        650i  Sedan    automatic   \n",
       "\n",
       "                 vin state  condition  odometer  color interior  \\\n",
       "0  5xyktca69fg566472    ca        5.0   16639.0  white    black   \n",
       "1  5xyktca69fg561319    ca        5.0    9393.0  white    beige   \n",
       "2  wba3c1c51ek116351    ca       45.0    1331.0   gray    black   \n",
       "3  yv1612tb4f1310987    ca       41.0   14282.0  white    black   \n",
       "4  wba6b2c57ed129731    ca       43.0    2641.0   gray    black   \n",
       "\n",
       "                                   seller      mmr  sellingprice  \\\n",
       "0                 kia motors america  inc  20500.0       21500.0   \n",
       "1                 kia motors america  inc  20800.0       21500.0   \n",
       "2  financial services remarketing (lease)  31900.0       30000.0   \n",
       "3                 volvo na rep/world omni  27500.0       27750.0   \n",
       "4  financial services remarketing (lease)  66000.0       67000.0   \n",
       "\n",
       "                                  saledate  annualmileage  \n",
       "0  Tue Dec 16 2014 12:30:00 GMT-0800 (PST)        16639.0  \n",
       "1  Tue Dec 16 2014 12:30:00 GMT-0800 (PST)         9393.0  \n",
       "2  Thu Jan 15 2015 04:30:00 GMT-0800 (PST)          665.5  \n",
       "3  Thu Jan 29 2015 04:30:00 GMT-0800 (PST)        14282.0  \n",
       "4  Thu Dec 18 2014 12:30:00 GMT-0800 (PST)         1320.5  "
      ]
     },
     "execution_count": 15,
     "metadata": {},
     "output_type": "execute_result"
    }
   ],
   "source": [
    "df['annualmileage'] = df['odometer'] / (2016 - df['year'])\n",
    "df.head()"
   ]
  },
  {
   "cell_type": "code",
   "execution_count": 16,
   "id": "76e2f36b",
   "metadata": {
    "execution": {
     "iopub.execute_input": "2024-05-31T15:57:33.348392Z",
     "iopub.status.busy": "2024-05-31T15:57:33.347206Z",
     "iopub.status.idle": "2024-05-31T15:57:34.290657Z",
     "shell.execute_reply": "2024-05-31T15:57:34.289340Z"
    },
    "papermill": {
     "duration": 0.964757,
     "end_time": "2024-05-31T15:57:34.293793",
     "exception": false,
     "start_time": "2024-05-31T15:57:33.329036",
     "status": "completed"
    },
    "tags": []
   },
   "outputs": [
    {
     "data": {
      "text/plain": [
       "<Axes: title={'center': 'Annual Mileage Driven per Vehicle Make'}, xlabel='make'>"
      ]
     },
     "execution_count": 16,
     "metadata": {},
     "output_type": "execute_result"
    },
    {
     "data": {
      "image/png": "[encoded data removed]",
      "text/plain": [
       "<Figure size 1200x500 with 1 Axes>"
      ]
     },
     "metadata": {},
     "output_type": "display_data"
    }
   ],
   "source": [
    "dfbymake = df.groupby('make').mean(numeric_only=True)\n",
    "dfmileagebymake = dfbymake['annualmileage'].sort_values(ascending=False)\n",
    "dfmileagebymake.plot.bar(title='Annual Mileage Driven per Vehicle Make', figsize=(12,5))"
   ]
  },
  {
   "cell_type": "code",
   "execution_count": 17,
   "id": "74510069",
   "metadata": {
    "execution": {
     "iopub.execute_input": "2024-05-31T15:57:34.333036Z",
     "iopub.status.busy": "2024-05-31T15:57:34.332563Z",
     "iopub.status.idle": "2024-05-31T15:57:35.208056Z",
     "shell.execute_reply": "2024-05-31T15:57:35.206727Z"
    },
    "papermill": {
     "duration": 0.898469,
     "end_time": "2024-05-31T15:57:35.211366",
     "exception": false,
     "start_time": "2024-05-31T15:57:34.312897",
     "status": "completed"
    },
    "tags": []
   },
   "outputs": [
    {
     "data": {
      "text/plain": [
       "<Axes: title={'center': 'Average Total Mileage per Make'}, ylabel='make'>"
      ]
     },
     "execution_count": 17,
     "metadata": {},
     "output_type": "execute_result"
    },
    {
     "data": {
      "image/png": "[encoded data removed]",
      "text/plain": [
       "<Figure size 600x1000 with 1 Axes>"
      ]
     },
     "metadata": {},
     "output_type": "display_data"
    }
   ],
   "source": [
    "dftotalmileagebymake = dfbymake['odometer'].sort_values(ascending=False)\n",
    "dftotalmileagebymake.plot.barh(title='Average Total Mileage per Make', figsize=(6,10))"
   ]
  },
  {
   "cell_type": "markdown",
   "id": "f2fbdb30",
   "metadata": {
    "papermill": {
     "duration": 0.018927,
     "end_time": "2024-05-31T15:57:35.250195",
     "exception": false,
     "start_time": "2024-05-31T15:57:35.231268",
     "status": "completed"
    },
    "tags": []
   },
   "source": [
    "I also check the average price per make of vehicle. We can see below that the luxury brands make the top of this list."
   ]
  },
  {
   "cell_type": "code",
   "execution_count": 18,
   "id": "9a1224ce",
   "metadata": {
    "execution": {
     "iopub.execute_input": "2024-05-31T15:57:35.290798Z",
     "iopub.status.busy": "2024-05-31T15:57:35.290350Z",
     "iopub.status.idle": "2024-05-31T15:57:35.724025Z",
     "shell.execute_reply": "2024-05-31T15:57:35.722772Z"
    },
    "papermill": {
     "duration": 0.457479,
     "end_time": "2024-05-31T15:57:35.726920",
     "exception": false,
     "start_time": "2024-05-31T15:57:35.269441",
     "status": "completed"
    },
    "tags": []
   },
   "outputs": [
    {
     "data": {
      "text/plain": [
       "<Axes: title={'center': 'Top 10 Highest Prices by Make'}, xlabel='make'>"
      ]
     },
     "execution_count": 18,
     "metadata": {},
     "output_type": "execute_result"
    },
    {
     "data": {
      "image/png": "[encoded data removed]",
      "text/plain": [
       "<Figure size 1000x500 with 1 Axes>"
      ]
     },
     "metadata": {},
     "output_type": "display_data"
    }
   ],
   "source": [
    "dfhighestprices = dfbymake[['sellingprice']].sort_values(by='sellingprice', ascending=False).head(10)\n",
    "dfhighestprices.plot.bar(title='Top 10 Highest Prices by Make', color='green', figsize=(10,5))"
   ]
  },
  {
   "cell_type": "markdown",
   "id": "e9a937c7",
   "metadata": {
    "papermill": {
     "duration": 0.019814,
     "end_time": "2024-05-31T15:57:35.767651",
     "exception": false,
     "start_time": "2024-05-31T15:57:35.747837",
     "status": "completed"
    },
    "tags": []
   },
   "source": [
    "Below I check to see what the most expensive car is, and I see that its a Ford Escape, which is not a very expensive car. I also see that the MMR is much less than the selling price, which leads me to believe the selling price is a typo. I will address that here."
   ]
  },
  {
   "cell_type": "code",
   "execution_count": 19,
   "id": "cb7c817b",
   "metadata": {
    "execution": {
     "iopub.execute_input": "2024-05-31T15:57:35.810190Z",
     "iopub.status.busy": "2024-05-31T15:57:35.809795Z",
     "iopub.status.idle": "2024-05-31T15:57:35.832282Z",
     "shell.execute_reply": "2024-05-31T15:57:35.831005Z"
    },
    "papermill": {
     "duration": 0.04708,
     "end_time": "2024-05-31T15:57:35.835002",
     "exception": false,
     "start_time": "2024-05-31T15:57:35.787922",
     "status": "completed"
    },
    "tags": []
   },
   "outputs": [
    {
     "data": {
      "text/html": [
       "<div>\n",
       "<style scoped>\n",
       "    .dataframe tbody tr th:only-of-type {\n",
       "        vertical-align: middle;\n",
       "    }\n",
       "\n",
       "    .dataframe tbody tr th {\n",
       "        vertical-align: top;\n",
       "    }\n",
       "\n",
       "    .dataframe thead th {\n",
       "        text-align: right;\n",
       "    }\n",
       "</style>\n",
       "<table border=\"1\" class=\"dataframe\">\n",
       "  <thead>\n",
       "    <tr style=\"text-align: right;\">\n",
       "      <th></th>\n",
       "      <th>year</th>\n",
       "      <th>make</th>\n",
       "      <th>model</th>\n",
       "      <th>trim</th>\n",
       "      <th>body</th>\n",
       "      <th>transmission</th>\n",
       "      <th>vin</th>\n",
       "      <th>state</th>\n",
       "      <th>condition</th>\n",
       "      <th>odometer</th>\n",
       "      <th>color</th>\n",
       "      <th>interior</th>\n",
       "      <th>seller</th>\n",
       "      <th>mmr</th>\n",
       "      <th>sellingprice</th>\n",
       "      <th>saledate</th>\n",
       "      <th>annualmileage</th>\n",
       "    </tr>\n",
       "  </thead>\n",
       "  <tbody>\n",
       "    <tr>\n",
       "      <th>344905</th>\n",
       "      <td>2014</td>\n",
       "      <td>Ford</td>\n",
       "      <td>Escape</td>\n",
       "      <td>Titanium</td>\n",
       "      <td>SUV</td>\n",
       "      <td>automatic</td>\n",
       "      <td>1fmcu9j98eua23833</td>\n",
       "      <td>mo</td>\n",
       "      <td>43.0</td>\n",
       "      <td>27802.0</td>\n",
       "      <td>green</td>\n",
       "      <td>tan</td>\n",
       "      <td>ford-lincoln dealer program</td>\n",
       "      <td>22800.0</td>\n",
       "      <td>230000.0</td>\n",
       "      <td>Wed Feb 25 2015 02:00:00 GMT-0800 (PST)</td>\n",
       "      <td>13901.0</td>\n",
       "    </tr>\n",
       "  </tbody>\n",
       "</table>\n",
       "</div>"
      ],
      "text/plain": [
       "        year  make   model      trim body transmission                vin  \\\n",
       "344905  2014  Ford  Escape  Titanium  SUV    automatic  1fmcu9j98eua23833   \n",
       "\n",
       "       state  condition  odometer  color interior  \\\n",
       "344905    mo       43.0   27802.0  green      tan   \n",
       "\n",
       "                             seller      mmr  sellingprice  \\\n",
       "344905  ford-lincoln dealer program  22800.0      230000.0   \n",
       "\n",
       "                                       saledate  annualmileage  \n",
       "344905  Wed Feb 25 2015 02:00:00 GMT-0800 (PST)        13901.0  "
      ]
     },
     "execution_count": 19,
     "metadata": {},
     "output_type": "execute_result"
    }
   ],
   "source": [
    "df.loc[df['sellingprice'] == df['sellingprice'].max()]"
   ]
  },
  {
   "cell_type": "code",
   "execution_count": 20,
   "id": "2fa1ae75",
   "metadata": {
    "execution": {
     "iopub.execute_input": "2024-05-31T15:57:35.878370Z",
     "iopub.status.busy": "2024-05-31T15:57:35.877966Z",
     "iopub.status.idle": "2024-05-31T15:57:35.900566Z",
     "shell.execute_reply": "2024-05-31T15:57:35.899459Z"
    },
    "papermill": {
     "duration": 0.047585,
     "end_time": "2024-05-31T15:57:35.903407",
     "exception": false,
     "start_time": "2024-05-31T15:57:35.855822",
     "status": "completed"
    },
    "tags": []
   },
   "outputs": [],
   "source": [
    "df.at[344905, 'sellingprice'] = 23000"
   ]
  },
  {
   "cell_type": "markdown",
   "id": "8135ad0e",
   "metadata": {
    "papermill": {
     "duration": 0.021007,
     "end_time": "2024-05-31T15:57:35.945582",
     "exception": false,
     "start_time": "2024-05-31T15:57:35.924575",
     "status": "completed"
    },
    "tags": []
   },
   "source": [
    "Now that the selling price is fixed on the Ford Escape, we can run this line again to find that the Ferrari 458 is the most expensive car sold, which makes sense."
   ]
  },
  {
   "cell_type": "code",
   "execution_count": 21,
   "id": "bacd9691",
   "metadata": {
    "execution": {
     "iopub.execute_input": "2024-05-31T15:57:35.988646Z",
     "iopub.status.busy": "2024-05-31T15:57:35.988251Z",
     "iopub.status.idle": "2024-05-31T15:57:36.010266Z",
     "shell.execute_reply": "2024-05-31T15:57:36.009012Z"
    },
    "papermill": {
     "duration": 0.046944,
     "end_time": "2024-05-31T15:57:36.013107",
     "exception": false,
     "start_time": "2024-05-31T15:57:35.966163",
     "status": "completed"
    },
    "tags": []
   },
   "outputs": [
    {
     "data": {
      "text/html": [
       "<div>\n",
       "<style scoped>\n",
       "    .dataframe tbody tr th:only-of-type {\n",
       "        vertical-align: middle;\n",
       "    }\n",
       "\n",
       "    .dataframe tbody tr th {\n",
       "        vertical-align: top;\n",
       "    }\n",
       "\n",
       "    .dataframe thead th {\n",
       "        text-align: right;\n",
       "    }\n",
       "</style>\n",
       "<table border=\"1\" class=\"dataframe\">\n",
       "  <thead>\n",
       "    <tr style=\"text-align: right;\">\n",
       "      <th></th>\n",
       "      <th>year</th>\n",
       "      <th>make</th>\n",
       "      <th>model</th>\n",
       "      <th>trim</th>\n",
       "      <th>body</th>\n",
       "      <th>transmission</th>\n",
       "      <th>vin</th>\n",
       "      <th>state</th>\n",
       "      <th>condition</th>\n",
       "      <th>odometer</th>\n",
       "      <th>color</th>\n",
       "      <th>interior</th>\n",
       "      <th>seller</th>\n",
       "      <th>mmr</th>\n",
       "      <th>sellingprice</th>\n",
       "      <th>saledate</th>\n",
       "      <th>annualmileage</th>\n",
       "    </tr>\n",
       "  </thead>\n",
       "  <tbody>\n",
       "    <tr>\n",
       "      <th>548169</th>\n",
       "      <td>2011</td>\n",
       "      <td>Ferrari</td>\n",
       "      <td>458 Italia</td>\n",
       "      <td>Base</td>\n",
       "      <td>coupe</td>\n",
       "      <td>automatic</td>\n",
       "      <td>zff67nfa1b0178698</td>\n",
       "      <td>fl</td>\n",
       "      <td>46.0</td>\n",
       "      <td>12116.0</td>\n",
       "      <td>red</td>\n",
       "      <td>black</td>\n",
       "      <td>platinum motor cars</td>\n",
       "      <td>182000.0</td>\n",
       "      <td>183000.0</td>\n",
       "      <td>Wed Jun 17 2015 03:40:00 GMT-0700 (PDT)</td>\n",
       "      <td>2423.2</td>\n",
       "    </tr>\n",
       "  </tbody>\n",
       "</table>\n",
       "</div>"
      ],
      "text/plain": [
       "        year     make       model  trim   body transmission  \\\n",
       "548169  2011  Ferrari  458 Italia  Base  coupe    automatic   \n",
       "\n",
       "                      vin state  condition  odometer color interior  \\\n",
       "548169  zff67nfa1b0178698    fl       46.0   12116.0   red    black   \n",
       "\n",
       "                     seller       mmr  sellingprice  \\\n",
       "548169  platinum motor cars  182000.0      183000.0   \n",
       "\n",
       "                                       saledate  annualmileage  \n",
       "548169  Wed Jun 17 2015 03:40:00 GMT-0700 (PDT)         2423.2  "
      ]
     },
     "execution_count": 21,
     "metadata": {},
     "output_type": "execute_result"
    }
   ],
   "source": [
    "df.loc[df['sellingprice'] == df['sellingprice'].max()]"
   ]
  },
  {
   "cell_type": "markdown",
   "id": "8d6fdea9",
   "metadata": {
    "papermill": {
     "duration": 0.021576,
     "end_time": "2024-05-31T15:57:36.055796",
     "exception": false,
     "start_time": "2024-05-31T15:57:36.034220",
     "status": "completed"
    },
    "tags": []
   },
   "source": [
    "Next, I went to run the number of cars sold per state, and I realized that it didn't look like there were all 50 states in the graph. I then went to check the number of unique states in the dataset and the result was 34."
   ]
  },
  {
   "cell_type": "code",
   "execution_count": 22,
   "id": "d234b4b9",
   "metadata": {
    "execution": {
     "iopub.execute_input": "2024-05-31T15:57:36.101214Z",
     "iopub.status.busy": "2024-05-31T15:57:36.100826Z",
     "iopub.status.idle": "2024-05-31T15:57:36.770093Z",
     "shell.execute_reply": "2024-05-31T15:57:36.768694Z"
    },
    "papermill": {
     "duration": 0.696082,
     "end_time": "2024-05-31T15:57:36.773094",
     "exception": false,
     "start_time": "2024-05-31T15:57:36.077012",
     "status": "completed"
    },
    "tags": []
   },
   "outputs": [
    {
     "data": {
      "text/plain": [
       "<Axes: title={'center': 'Number of Cars Sold per State'}, xlabel='state'>"
      ]
     },
     "execution_count": 22,
     "metadata": {},
     "output_type": "execute_result"
    },
    {
     "data": {
      "image/png": "[encoded data removed]",
      "text/plain": [
       "<Figure size 1000x500 with 1 Axes>"
      ]
     },
     "metadata": {},
     "output_type": "display_data"
    }
   ],
   "source": [
    "dfcarsperstate = df['state'].value_counts()\n",
    "dfcarsperstate.plot.bar(title='Number of Cars Sold per State', figsize=(10,5))"
   ]
  },
  {
   "cell_type": "code",
   "execution_count": 23,
   "id": "6e9a1360",
   "metadata": {
    "execution": {
     "iopub.execute_input": "2024-05-31T15:57:36.820688Z",
     "iopub.status.busy": "2024-05-31T15:57:36.819675Z",
     "iopub.status.idle": "2024-05-31T15:57:36.865007Z",
     "shell.execute_reply": "2024-05-31T15:57:36.863785Z"
    },
    "papermill": {
     "duration": 0.071905,
     "end_time": "2024-05-31T15:57:36.867643",
     "exception": false,
     "start_time": "2024-05-31T15:57:36.795738",
     "status": "completed"
    },
    "tags": []
   },
   "outputs": [
    {
     "data": {
      "text/plain": [
       "34"
      ]
     },
     "execution_count": 23,
     "metadata": {},
     "output_type": "execute_result"
    }
   ],
   "source": [
    "len(df['state'].unique())"
   ]
  },
  {
   "cell_type": "markdown",
   "id": "3d87d7c3",
   "metadata": {
    "papermill": {
     "duration": 0.021487,
     "end_time": "2024-05-31T15:57:36.910818",
     "exception": false,
     "start_time": "2024-05-31T15:57:36.889331",
     "status": "completed"
    },
    "tags": []
   },
   "source": [
    "What sort of factors are most highly correlated with selling price?\n",
    "\n",
    "Below I took a quick look at the numeric options we have available in this dataset to see what correlates the highest with selling price.\n",
    "\n",
    "We can see that MMR is the most highly correlated, but that is simply because it is a market estimate of the selling price already. Other than that, the year of the model and the condition of the car are both somewhat corrlated to the selling price of the car."
   ]
  },
  {
   "cell_type": "code",
   "execution_count": 24,
   "id": "c9a0468a",
   "metadata": {
    "execution": {
     "iopub.execute_input": "2024-05-31T15:57:36.959994Z",
     "iopub.status.busy": "2024-05-31T15:57:36.959453Z",
     "iopub.status.idle": "2024-05-31T15:57:37.040627Z",
     "shell.execute_reply": "2024-05-31T15:57:37.039431Z"
    },
    "papermill": {
     "duration": 0.108587,
     "end_time": "2024-05-31T15:57:37.043845",
     "exception": false,
     "start_time": "2024-05-31T15:57:36.935258",
     "status": "completed"
    },
    "tags": []
   },
   "outputs": [
    {
     "data": {
      "text/plain": [
       "year             0.578178\n",
       "condition        0.315467\n",
       "odometer        -0.592268\n",
       "mmr              0.984483\n",
       "sellingprice     1.000000\n",
       "annualmileage   -0.225718\n",
       "Name: sellingprice, dtype: float64"
      ]
     },
     "execution_count": 24,
     "metadata": {},
     "output_type": "execute_result"
    }
   ],
   "source": [
    "df.corr(numeric_only=True)['sellingprice']"
   ]
  },
  {
   "cell_type": "markdown",
   "id": "99f95ae4",
   "metadata": {
    "papermill": {
     "duration": 0.021604,
     "end_time": "2024-05-31T15:57:37.087688",
     "exception": false,
     "start_time": "2024-05-31T15:57:37.066084",
     "status": "completed"
    },
    "tags": []
   },
   "source": [
    "As an excerise, what if we wanted to look at all the yellow Ferraris?"
   ]
  },
  {
   "cell_type": "code",
   "execution_count": 25,
   "id": "73564a99",
   "metadata": {
    "execution": {
     "iopub.execute_input": "2024-05-31T15:57:37.134528Z",
     "iopub.status.busy": "2024-05-31T15:57:37.134137Z",
     "iopub.status.idle": "2024-05-31T15:57:37.331486Z",
     "shell.execute_reply": "2024-05-31T15:57:37.330483Z"
    },
    "papermill": {
     "duration": 0.224671,
     "end_time": "2024-05-31T15:57:37.334455",
     "exception": false,
     "start_time": "2024-05-31T15:57:37.109784",
     "status": "completed"
    },
    "tags": []
   },
   "outputs": [
    {
     "data": {
      "text/html": [
       "<div>\n",
       "<style scoped>\n",
       "    .dataframe tbody tr th:only-of-type {\n",
       "        vertical-align: middle;\n",
       "    }\n",
       "\n",
       "    .dataframe tbody tr th {\n",
       "        vertical-align: top;\n",
       "    }\n",
       "\n",
       "    .dataframe thead th {\n",
       "        text-align: right;\n",
       "    }\n",
       "</style>\n",
       "<table border=\"1\" class=\"dataframe\">\n",
       "  <thead>\n",
       "    <tr style=\"text-align: right;\">\n",
       "      <th></th>\n",
       "      <th>year</th>\n",
       "      <th>make</th>\n",
       "      <th>model</th>\n",
       "      <th>trim</th>\n",
       "      <th>body</th>\n",
       "      <th>transmission</th>\n",
       "      <th>vin</th>\n",
       "      <th>state</th>\n",
       "      <th>condition</th>\n",
       "      <th>odometer</th>\n",
       "      <th>color</th>\n",
       "      <th>interior</th>\n",
       "      <th>seller</th>\n",
       "      <th>mmr</th>\n",
       "      <th>sellingprice</th>\n",
       "      <th>saledate</th>\n",
       "      <th>annualmileage</th>\n",
       "    </tr>\n",
       "  </thead>\n",
       "  <tbody>\n",
       "    <tr>\n",
       "      <th>529862</th>\n",
       "      <td>2004</td>\n",
       "      <td>Ferrari</td>\n",
       "      <td>360</td>\n",
       "      <td>Spider</td>\n",
       "      <td>Convertible</td>\n",
       "      <td>manual</td>\n",
       "      <td>zffyt53a840138209</td>\n",
       "      <td>pa</td>\n",
       "      <td>39.0</td>\n",
       "      <td>16309.0</td>\n",
       "      <td>yellow</td>\n",
       "      <td>black</td>\n",
       "      <td>teatero motor products</td>\n",
       "      <td>80000.0</td>\n",
       "      <td>81000.0</td>\n",
       "      <td>Thu Jun 11 2015 02:30:00 GMT-0700 (PDT)</td>\n",
       "      <td>1359.083333</td>\n",
       "    </tr>\n",
       "    <tr>\n",
       "      <th>556120</th>\n",
       "      <td>2007</td>\n",
       "      <td>Ferrari</td>\n",
       "      <td>F430</td>\n",
       "      <td>Spider</td>\n",
       "      <td>convertible</td>\n",
       "      <td>automatic</td>\n",
       "      <td>zffew59a870152438</td>\n",
       "      <td>fl</td>\n",
       "      <td>29.0</td>\n",
       "      <td>39651.0</td>\n",
       "      <td>yellow</td>\n",
       "      <td>black</td>\n",
       "      <td>autoshow sales and service</td>\n",
       "      <td>96000.0</td>\n",
       "      <td>95500.0</td>\n",
       "      <td>Wed Jun 17 2015 04:55:00 GMT-0700 (PDT)</td>\n",
       "      <td>4405.666667</td>\n",
       "    </tr>\n",
       "  </tbody>\n",
       "</table>\n",
       "</div>"
      ],
      "text/plain": [
       "        year     make model    trim         body transmission  \\\n",
       "529862  2004  Ferrari   360  Spider  Convertible       manual   \n",
       "556120  2007  Ferrari  F430  Spider  convertible    automatic   \n",
       "\n",
       "                      vin state  condition  odometer   color interior  \\\n",
       "529862  zffyt53a840138209    pa       39.0   16309.0  yellow    black   \n",
       "556120  zffew59a870152438    fl       29.0   39651.0  yellow    black   \n",
       "\n",
       "                            seller      mmr  sellingprice  \\\n",
       "529862      teatero motor products  80000.0       81000.0   \n",
       "556120  autoshow sales and service  96000.0       95500.0   \n",
       "\n",
       "                                       saledate  annualmileage  \n",
       "529862  Thu Jun 11 2015 02:30:00 GMT-0700 (PDT)    1359.083333  \n",
       "556120  Wed Jun 17 2015 04:55:00 GMT-0700 (PDT)    4405.666667  "
      ]
     },
     "execution_count": 25,
     "metadata": {},
     "output_type": "execute_result"
    }
   ],
   "source": [
    "df.loc[(df['make'] == 'Ferrari') & (df['color'] == 'yellow')]"
   ]
  },
  {
   "cell_type": "markdown",
   "id": "8353fb6e",
   "metadata": {
    "papermill": {
     "duration": 0.021851,
     "end_time": "2024-05-31T15:57:37.378515",
     "exception": false,
     "start_time": "2024-05-31T15:57:37.356664",
     "status": "completed"
    },
    "tags": []
   },
   "source": [
    "Another exersize I think that would be fun to do is group the cars based on warranty status or not. Lets assume each car has a 3 year full coverage warranty, a 5 year powertrain warranty, and everything older than that does not have an active warranty anymore. We will not be taking account mileage into this calculation.\n",
    "\n",
    "We can group the cars on those categories below. I am presuming the dataset was collected in 2016. So anything 2013 and newer will still have a full coverage warranty, and cars with the model year 2012 and 2011 will only have a powertrain warranty. "
   ]
  },
  {
   "cell_type": "code",
   "execution_count": 26,
   "id": "da1d1ab5",
   "metadata": {
    "execution": {
     "iopub.execute_input": "2024-05-31T15:57:37.426289Z",
     "iopub.status.busy": "2024-05-31T15:57:37.425891Z",
     "iopub.status.idle": "2024-05-31T15:57:37.487175Z",
     "shell.execute_reply": "2024-05-31T15:57:37.485736Z"
    },
    "papermill": {
     "duration": 0.088418,
     "end_time": "2024-05-31T15:57:37.490760",
     "exception": false,
     "start_time": "2024-05-31T15:57:37.402342",
     "status": "completed"
    },
    "tags": []
   },
   "outputs": [
    {
     "data": {
      "text/html": [
       "<div>\n",
       "<style scoped>\n",
       "    .dataframe tbody tr th:only-of-type {\n",
       "        vertical-align: middle;\n",
       "    }\n",
       "\n",
       "    .dataframe tbody tr th {\n",
       "        vertical-align: top;\n",
       "    }\n",
       "\n",
       "    .dataframe thead th {\n",
       "        text-align: right;\n",
       "    }\n",
       "</style>\n",
       "<table border=\"1\" class=\"dataframe\">\n",
       "  <thead>\n",
       "    <tr style=\"text-align: right;\">\n",
       "      <th></th>\n",
       "      <th>year</th>\n",
       "      <th>make</th>\n",
       "      <th>model</th>\n",
       "      <th>trim</th>\n",
       "      <th>body</th>\n",
       "      <th>transmission</th>\n",
       "      <th>vin</th>\n",
       "      <th>state</th>\n",
       "      <th>condition</th>\n",
       "      <th>odometer</th>\n",
       "      <th>color</th>\n",
       "      <th>interior</th>\n",
       "      <th>seller</th>\n",
       "      <th>mmr</th>\n",
       "      <th>sellingprice</th>\n",
       "      <th>saledate</th>\n",
       "      <th>annualmileage</th>\n",
       "      <th>warranty</th>\n",
       "    </tr>\n",
       "  </thead>\n",
       "  <tbody>\n",
       "    <tr>\n",
       "      <th>513465</th>\n",
       "      <td>2014</td>\n",
       "      <td>Ford</td>\n",
       "      <td>Escape</td>\n",
       "      <td>SE</td>\n",
       "      <td>suv</td>\n",
       "      <td>automatic</td>\n",
       "      <td>1fmcu0gx2eud41299</td>\n",
       "      <td>nj</td>\n",
       "      <td>4.0</td>\n",
       "      <td>5779.0</td>\n",
       "      <td>silver</td>\n",
       "      <td>black</td>\n",
       "      <td>ford motor credit company llc</td>\n",
       "      <td>18250.0</td>\n",
       "      <td>18100.0</td>\n",
       "      <td>Wed Jun 10 2015 02:00:00 GMT-0700 (PDT)</td>\n",
       "      <td>2889.500000</td>\n",
       "      <td>full coverage</td>\n",
       "    </tr>\n",
       "    <tr>\n",
       "      <th>116105</th>\n",
       "      <td>2008</td>\n",
       "      <td>Saturn</td>\n",
       "      <td>VUE</td>\n",
       "      <td>XE</td>\n",
       "      <td>SUV</td>\n",
       "      <td>automatic</td>\n",
       "      <td>3gsdl43n68s594867</td>\n",
       "      <td>mo</td>\n",
       "      <td>43.0</td>\n",
       "      <td>91204.0</td>\n",
       "      <td>blue</td>\n",
       "      <td>gray</td>\n",
       "      <td>ford-lincoln dealer program</td>\n",
       "      <td>6050.0</td>\n",
       "      <td>9000.0</td>\n",
       "      <td>Wed Jan 14 2015 02:00:00 GMT-0800 (PST)</td>\n",
       "      <td>11400.500000</td>\n",
       "      <td>none</td>\n",
       "    </tr>\n",
       "    <tr>\n",
       "      <th>30274</th>\n",
       "      <td>1992</td>\n",
       "      <td>Ford</td>\n",
       "      <td>Explorer</td>\n",
       "      <td>XLT</td>\n",
       "      <td>SUV</td>\n",
       "      <td>automatic</td>\n",
       "      <td>1fmdu34x1nua10739</td>\n",
       "      <td>fl</td>\n",
       "      <td>1.0</td>\n",
       "      <td>18069.0</td>\n",
       "      <td>gold</td>\n",
       "      <td>beige</td>\n",
       "      <td>coggin nissan at the avenues</td>\n",
       "      <td>375.0</td>\n",
       "      <td>500.0</td>\n",
       "      <td>Thu Feb 05 2015 04:45:00 GMT-0800 (PST)</td>\n",
       "      <td>752.875000</td>\n",
       "      <td>none</td>\n",
       "    </tr>\n",
       "    <tr>\n",
       "      <th>334908</th>\n",
       "      <td>2005</td>\n",
       "      <td>Dodge</td>\n",
       "      <td>Durango</td>\n",
       "      <td>SLT</td>\n",
       "      <td>SUV</td>\n",
       "      <td>automatic</td>\n",
       "      <td>1d4hd48k65f577224</td>\n",
       "      <td>fl</td>\n",
       "      <td>19.0</td>\n",
       "      <td>131006.0</td>\n",
       "      <td>white</td>\n",
       "      <td>gray</td>\n",
       "      <td>southern auto finance co/safco/ft lauderdale</td>\n",
       "      <td>3550.0</td>\n",
       "      <td>3200.0</td>\n",
       "      <td>Fri Feb 20 2015 09:25:00 GMT-0800 (PST)</td>\n",
       "      <td>11909.636364</td>\n",
       "      <td>none</td>\n",
       "    </tr>\n",
       "    <tr>\n",
       "      <th>272781</th>\n",
       "      <td>2013</td>\n",
       "      <td>Ford</td>\n",
       "      <td>Escape</td>\n",
       "      <td>SEL</td>\n",
       "      <td>SUV</td>\n",
       "      <td>automatic</td>\n",
       "      <td>1fmcu0hx3dud17137</td>\n",
       "      <td>tn</td>\n",
       "      <td>44.0</td>\n",
       "      <td>18265.0</td>\n",
       "      <td>—</td>\n",
       "      <td>black</td>\n",
       "      <td>ford motor credit company llc</td>\n",
       "      <td>19100.0</td>\n",
       "      <td>20100.0</td>\n",
       "      <td>Wed Feb 11 2015 02:00:00 GMT-0800 (PST)</td>\n",
       "      <td>6088.333333</td>\n",
       "      <td>full coverage</td>\n",
       "    </tr>\n",
       "    <tr>\n",
       "      <th>399472</th>\n",
       "      <td>2013</td>\n",
       "      <td>Ram</td>\n",
       "      <td>1500</td>\n",
       "      <td>SLT</td>\n",
       "      <td>Crew Cab</td>\n",
       "      <td>automatic</td>\n",
       "      <td>1c6rr7lt0ds632784</td>\n",
       "      <td>mi</td>\n",
       "      <td>44.0</td>\n",
       "      <td>28680.0</td>\n",
       "      <td>white</td>\n",
       "      <td>gray</td>\n",
       "      <td>chrysler capital</td>\n",
       "      <td>26200.0</td>\n",
       "      <td>27400.0</td>\n",
       "      <td>Thu Mar 05 2015 01:30:00 GMT-0800 (PST)</td>\n",
       "      <td>9560.000000</td>\n",
       "      <td>full coverage</td>\n",
       "    </tr>\n",
       "    <tr>\n",
       "      <th>65045</th>\n",
       "      <td>2012</td>\n",
       "      <td>Volkswagen</td>\n",
       "      <td>Passat</td>\n",
       "      <td>SE PZEV</td>\n",
       "      <td>Sedan</td>\n",
       "      <td>automatic</td>\n",
       "      <td>1vwbp7a35cc011145</td>\n",
       "      <td>ca</td>\n",
       "      <td>39.0</td>\n",
       "      <td>39824.0</td>\n",
       "      <td>white</td>\n",
       "      <td>beige</td>\n",
       "      <td>skyhigh remarketing inc</td>\n",
       "      <td>11850.0</td>\n",
       "      <td>12500.0</td>\n",
       "      <td>Wed Dec 31 2014 12:15:00 GMT-0800 (PST)</td>\n",
       "      <td>9956.000000</td>\n",
       "      <td>powertrain only</td>\n",
       "    </tr>\n",
       "    <tr>\n",
       "      <th>250014</th>\n",
       "      <td>2012</td>\n",
       "      <td>Hyundai</td>\n",
       "      <td>Elantra</td>\n",
       "      <td>Limited</td>\n",
       "      <td>Sedan</td>\n",
       "      <td>automatic</td>\n",
       "      <td>kmhdh4ae4cu384014</td>\n",
       "      <td>ca</td>\n",
       "      <td>44.0</td>\n",
       "      <td>27628.0</td>\n",
       "      <td>silver</td>\n",
       "      <td>gray</td>\n",
       "      <td>hyundai motor finance</td>\n",
       "      <td>12750.0</td>\n",
       "      <td>13750.0</td>\n",
       "      <td>Tue Feb 10 2015 04:30:00 GMT-0800 (PST)</td>\n",
       "      <td>6907.000000</td>\n",
       "      <td>powertrain only</td>\n",
       "    </tr>\n",
       "    <tr>\n",
       "      <th>330483</th>\n",
       "      <td>2014</td>\n",
       "      <td>Volkswagen</td>\n",
       "      <td>Jetta</td>\n",
       "      <td>SE PZEV</td>\n",
       "      <td>Sedan</td>\n",
       "      <td>automatic</td>\n",
       "      <td>3vwd17aj6em363323</td>\n",
       "      <td>nc</td>\n",
       "      <td>3.0</td>\n",
       "      <td>37168.0</td>\n",
       "      <td>black</td>\n",
       "      <td>black</td>\n",
       "      <td>enterprise vehicle exchange / tra / rental / t...</td>\n",
       "      <td>12350.0</td>\n",
       "      <td>11400.0</td>\n",
       "      <td>Tue Mar 03 2015 00:30:00 GMT-0800 (PST)</td>\n",
       "      <td>18584.000000</td>\n",
       "      <td>full coverage</td>\n",
       "    </tr>\n",
       "    <tr>\n",
       "      <th>344170</th>\n",
       "      <td>2007</td>\n",
       "      <td>Chevrolet</td>\n",
       "      <td>Colorado</td>\n",
       "      <td>LS</td>\n",
       "      <td>Extended Cab</td>\n",
       "      <td>automatic</td>\n",
       "      <td>1gccs199778155848</td>\n",
       "      <td>in</td>\n",
       "      <td>19.0</td>\n",
       "      <td>301540.0</td>\n",
       "      <td>white</td>\n",
       "      <td>gray</td>\n",
       "      <td>ge fleet services for itself/servicer</td>\n",
       "      <td>1800.0</td>\n",
       "      <td>1400.0</td>\n",
       "      <td>Thu Feb 26 2015 02:00:00 GMT-0800 (PST)</td>\n",
       "      <td>33504.444444</td>\n",
       "      <td>none</td>\n",
       "    </tr>\n",
       "  </tbody>\n",
       "</table>\n",
       "</div>"
      ],
      "text/plain": [
       "        year        make     model     trim          body transmission  \\\n",
       "513465  2014        Ford    Escape       SE           suv    automatic   \n",
       "116105  2008      Saturn       VUE       XE           SUV    automatic   \n",
       "30274   1992        Ford  Explorer      XLT           SUV    automatic   \n",
       "334908  2005       Dodge   Durango      SLT           SUV    automatic   \n",
       "272781  2013        Ford    Escape      SEL           SUV    automatic   \n",
       "399472  2013         Ram      1500      SLT      Crew Cab    automatic   \n",
       "65045   2012  Volkswagen    Passat  SE PZEV         Sedan    automatic   \n",
       "250014  2012     Hyundai   Elantra  Limited         Sedan    automatic   \n",
       "330483  2014  Volkswagen     Jetta  SE PZEV         Sedan    automatic   \n",
       "344170  2007   Chevrolet  Colorado       LS  Extended Cab    automatic   \n",
       "\n",
       "                      vin state  condition  odometer   color interior  \\\n",
       "513465  1fmcu0gx2eud41299    nj        4.0    5779.0  silver    black   \n",
       "116105  3gsdl43n68s594867    mo       43.0   91204.0    blue     gray   \n",
       "30274   1fmdu34x1nua10739    fl        1.0   18069.0    gold    beige   \n",
       "334908  1d4hd48k65f577224    fl       19.0  131006.0   white     gray   \n",
       "272781  1fmcu0hx3dud17137    tn       44.0   18265.0       —    black   \n",
       "399472  1c6rr7lt0ds632784    mi       44.0   28680.0   white     gray   \n",
       "65045   1vwbp7a35cc011145    ca       39.0   39824.0   white    beige   \n",
       "250014  kmhdh4ae4cu384014    ca       44.0   27628.0  silver     gray   \n",
       "330483  3vwd17aj6em363323    nc        3.0   37168.0   black    black   \n",
       "344170  1gccs199778155848    in       19.0  301540.0   white     gray   \n",
       "\n",
       "                                                   seller      mmr  \\\n",
       "513465                      ford motor credit company llc  18250.0   \n",
       "116105                        ford-lincoln dealer program   6050.0   \n",
       "30274                        coggin nissan at the avenues    375.0   \n",
       "334908       southern auto finance co/safco/ft lauderdale   3550.0   \n",
       "272781                      ford motor credit company llc  19100.0   \n",
       "399472                                   chrysler capital  26200.0   \n",
       "65045                             skyhigh remarketing inc  11850.0   \n",
       "250014                              hyundai motor finance  12750.0   \n",
       "330483  enterprise vehicle exchange / tra / rental / t...  12350.0   \n",
       "344170              ge fleet services for itself/servicer   1800.0   \n",
       "\n",
       "        sellingprice                                 saledate  annualmileage  \\\n",
       "513465       18100.0  Wed Jun 10 2015 02:00:00 GMT-0700 (PDT)    2889.500000   \n",
       "116105        9000.0  Wed Jan 14 2015 02:00:00 GMT-0800 (PST)   11400.500000   \n",
       "30274          500.0  Thu Feb 05 2015 04:45:00 GMT-0800 (PST)     752.875000   \n",
       "334908        3200.0  Fri Feb 20 2015 09:25:00 GMT-0800 (PST)   11909.636364   \n",
       "272781       20100.0  Wed Feb 11 2015 02:00:00 GMT-0800 (PST)    6088.333333   \n",
       "399472       27400.0  Thu Mar 05 2015 01:30:00 GMT-0800 (PST)    9560.000000   \n",
       "65045        12500.0  Wed Dec 31 2014 12:15:00 GMT-0800 (PST)    9956.000000   \n",
       "250014       13750.0  Tue Feb 10 2015 04:30:00 GMT-0800 (PST)    6907.000000   \n",
       "330483       11400.0  Tue Mar 03 2015 00:30:00 GMT-0800 (PST)   18584.000000   \n",
       "344170        1400.0  Thu Feb 26 2015 02:00:00 GMT-0800 (PST)   33504.444444   \n",
       "\n",
       "               warranty  \n",
       "513465    full coverage  \n",
       "116105             none  \n",
       "30274              none  \n",
       "334908             none  \n",
       "272781    full coverage  \n",
       "399472    full coverage  \n",
       "65045   powertrain only  \n",
       "250014  powertrain only  \n",
       "330483    full coverage  \n",
       "344170             none  "
      ]
     },
     "execution_count": 26,
     "metadata": {},
     "output_type": "execute_result"
    }
   ],
   "source": [
    "df['warranty'] = pd.cut(x=df['year'], bins = [0, 2010, 2012, 2016], labels=['none','powertrain only','full coverage'])\n",
    "df.sample(10)"
   ]
  },
  {
   "cell_type": "markdown",
   "id": "6cb44ca0",
   "metadata": {
    "papermill": {
     "duration": 0.027496,
     "end_time": "2024-05-31T15:57:37.549501",
     "exception": false,
     "start_time": "2024-05-31T15:57:37.522005",
     "status": "completed"
    },
    "tags": []
   },
   "source": [
    "Now we can analyze cars based on warranty status with this new column in place."
   ]
  },
  {
   "cell_type": "code",
   "execution_count": 27,
   "id": "17a7a55d",
   "metadata": {
    "execution": {
     "iopub.execute_input": "2024-05-31T15:57:37.597637Z",
     "iopub.status.busy": "2024-05-31T15:57:37.597200Z",
     "iopub.status.idle": "2024-05-31T15:57:37.609821Z",
     "shell.execute_reply": "2024-05-31T15:57:37.608622Z"
    },
    "papermill": {
     "duration": 0.039129,
     "end_time": "2024-05-31T15:57:37.612443",
     "exception": false,
     "start_time": "2024-05-31T15:57:37.573314",
     "status": "completed"
    },
    "tags": []
   },
   "outputs": [
    {
     "data": {
      "text/plain": [
       "warranty\n",
       "none               177471\n",
       "full coverage      165101\n",
       "powertrain only    128713\n",
       "Name: count, dtype: int64"
      ]
     },
     "execution_count": 27,
     "metadata": {},
     "output_type": "execute_result"
    }
   ],
   "source": [
    "df['warranty'].value_counts()"
   ]
  },
  {
   "cell_type": "code",
   "execution_count": 28,
   "id": "ad05db22",
   "metadata": {
    "execution": {
     "iopub.execute_input": "2024-05-31T15:57:37.660846Z",
     "iopub.status.busy": "2024-05-31T15:57:37.660438Z",
     "iopub.status.idle": "2024-05-31T15:57:37.701739Z",
     "shell.execute_reply": "2024-05-31T15:57:37.700380Z"
    },
    "papermill": {
     "duration": 0.068409,
     "end_time": "2024-05-31T15:57:37.704495",
     "exception": false,
     "start_time": "2024-05-31T15:57:37.636086",
     "status": "completed"
    },
    "tags": []
   },
   "outputs": [
    {
     "data": {
      "text/html": [
       "<div>\n",
       "<style scoped>\n",
       "    .dataframe tbody tr th:only-of-type {\n",
       "        vertical-align: middle;\n",
       "    }\n",
       "\n",
       "    .dataframe tbody tr th {\n",
       "        vertical-align: top;\n",
       "    }\n",
       "\n",
       "    .dataframe thead th {\n",
       "        text-align: right;\n",
       "    }\n",
       "</style>\n",
       "<table border=\"1\" class=\"dataframe\">\n",
       "  <thead>\n",
       "    <tr style=\"text-align: right;\">\n",
       "      <th></th>\n",
       "      <th>mean</th>\n",
       "      <th>median</th>\n",
       "      <th>max</th>\n",
       "    </tr>\n",
       "    <tr>\n",
       "      <th>warranty</th>\n",
       "      <th></th>\n",
       "      <th></th>\n",
       "      <th></th>\n",
       "    </tr>\n",
       "  </thead>\n",
       "  <tbody>\n",
       "    <tr>\n",
       "      <th>none</th>\n",
       "      <td>7139.659601</td>\n",
       "      <td>5600.0</td>\n",
       "      <td>149800.0</td>\n",
       "    </tr>\n",
       "    <tr>\n",
       "      <th>powertrain only</th>\n",
       "      <td>16204.160186</td>\n",
       "      <td>14200.0</td>\n",
       "      <td>183000.0</td>\n",
       "    </tr>\n",
       "    <tr>\n",
       "      <th>full coverage</th>\n",
       "      <td>18842.466678</td>\n",
       "      <td>16300.0</td>\n",
       "      <td>173000.0</td>\n",
       "    </tr>\n",
       "  </tbody>\n",
       "</table>\n",
       "</div>"
      ],
      "text/plain": [
       "                         mean   median       max\n",
       "warranty                                        \n",
       "none              7139.659601   5600.0  149800.0\n",
       "powertrain only  16204.160186  14200.0  183000.0\n",
       "full coverage    18842.466678  16300.0  173000.0"
      ]
     },
     "execution_count": 28,
     "metadata": {},
     "output_type": "execute_result"
    }
   ],
   "source": [
    "dfpricebywarranty = df.groupby('warranty', observed=False).sellingprice.agg(['mean','median','max'])\n",
    "dfpricebywarranty"
   ]
  },
  {
   "cell_type": "markdown",
   "id": "fbc8eaf1",
   "metadata": {
    "papermill": {
     "duration": 0.023173,
     "end_time": "2024-05-31T15:57:37.751063",
     "exception": false,
     "start_time": "2024-05-31T15:57:37.727890",
     "status": "completed"
    },
    "tags": []
   },
   "source": [
    "I really hope this was helpful and insightful to everyone! It was fun doing this analysis and I hope it was also fun to read through it as we explored the data together."
   ]
  }
 ],
 "metadata": {
  "kaggle": {
   "accelerator": "none",
   "dataSources": [
    {
     "datasetId": 4476093,
     "sourceId": 7673611,
     "sourceType": "datasetVersion"
    }
   ],
   "dockerImageVersionId": 30698,
   "isGpuEnabled": false,
   "isInternetEnabled": true,
   "language": "python",
   "sourceType": "notebook"
  },
  "kernelspec": {
   "display_name": "Python 3",
   "language": "python",
   "name": "python3"
  },
  "language_info": {
   "codemirror_mode": {
    "name": "ipython",
    "version": 3
   },
   "file_extension": ".py",
   "mimetype": "text/x-python",
   "name": "python",
   "nbconvert_exporter": "python",
   "pygments_lexer": "ipython3",
   "version": "3.10.13"
  },
  "papermill": {
   "default_parameters": {},
   "duration": 18.273942,
   "end_time": "2024-05-31T15:57:38.397264",
   "environment_variables": {},
   "exception": null,
   "input_path": "__notebook__.ipynb",
   "output_path": "__notebook__.ipynb",
   "parameters": {},
   "start_time": "2024-05-31T15:57:20.123322",
   "version": "2.5.0"
  }
 },
 "nbformat": 4,
 "nbformat_minor": 5
}
